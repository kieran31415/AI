{
 "cells": [
  {
   "cell_type": "markdown",
   "metadata": {},
   "source": [
    "# Course content, important dates, deadlines and evaluation\n",
    "\n",
    "Now that we know the three main concepts, let's have a look at the course content (divided into the three domains).\n",
    "\n",
    "<img src=\"./resources/word.png\"  style=\"height: 350px\"/>"
   ]
  },
  {
   "cell_type": "markdown",
   "metadata": {},
   "source": [
    "## 1. Course content\n",
    "\n",
    "### Module 1: Artificial Intelligence\n",
    "\n",
    "- Lesson 1: Introduction to Artificial Intelligence (18/9)\n",
    "- Lesson 2: Recursion (18/9)\n",
    "- Lesson 3: Graph Search Algorithms (20/9)\n",
    "- Lesson 4: Games with AI (25/9)\n",
    "- Lesson 5: Logic Programming (27/9)\n",
    "\n",
    "### Module 2: Machine Learning\n",
    "\n",
    "- Lesson 6: Introduction to Machine Learning (2/10)\n",
    "- Lesson 7: Linear Regression (2/10)\n",
    "- Lesson 8: Recommender Systems (**9/10** - switched with lesson 9)\n",
    "- Lesson 9: Decision Trees and Random Forest (**4/10** - switched with lesson 8)\n",
    "- Lesson 10: Reinforcement Learning (11/10)\n",
    "\n",
    "### Module 3: Deep Learning\n",
    "\n",
    "- Lesson 11: Introduction to Deep Learning (16/10)\n",
    "- Lesson 12: Artificial Neural Networks (16/10)\n",
    "- Lesson 13: Computer Vision (18/10)\n",
    "- Lesson 14: Natural Language Processing (23/10)\n",
    "- Lesson 15: Speech Recognition (25/10)"
   ]
  },
  {
   "cell_type": "markdown",
   "metadata": {},
   "source": [
    "## 2. Evaluation\n",
    "\n",
    "- Three tasks (see deadlines below): 3/20\n",
    "- Three tests about the concepts (see dates below): 3/20\n",
    "- Online practical exam: 6/20\n",
    "<br/><br />\n",
    "- Project + online oral explanation: 8/20"
   ]
  },
  {
   "cell_type": "markdown",
   "metadata": {},
   "source": [
    "## 3. Important dates and deadlines\n",
    "\n",
    "### Tasks\n",
    "\n",
    "- Friday 29/9: Task 1 (AI): Coding a crypto-puzzle\n",
    "- Friday 13/10: Task 2 (ML): Benchmarking two Machine Learning Algorithms\n",
    "- Friday 27/10: Task 3 (DL): Image Classification\n",
    "\n",
    "### Quiz / Tests (only in class / on campus, at beginning of class)\n",
    "\n",
    "- Monday 2/10: Test 1: AI\n",
    "- Monday 16/10: Test 2: Machine Learning\n",
    "- **Wednesday 25/10**: Test 3: Deep Learning\n",
    "\n",
    "### Project\n",
    "\n",
    "- TBD"
   ]
  }
 ],
 "metadata": {
  "kernelspec": {
   "display_name": "Python 3.10.7 64-bit",
   "language": "python",
   "name": "python3"
  },
  "language_info": {
   "codemirror_mode": {
    "name": "ipython",
    "version": 3
   },
   "file_extension": ".py",
   "mimetype": "text/x-python",
   "name": "python",
   "nbconvert_exporter": "python",
   "pygments_lexer": "ipython3",
   "version": "3.10.7"
  },
  "vscode": {
   "interpreter": {
    "hash": "495ae52d0bdace51a6155b402a7938e77bd87f1fa94bc737a5c61e09660be6b7"
   }
  }
 },
 "nbformat": 4,
 "nbformat_minor": 2
}
