{
 "cells": [
  {
   "cell_type": "markdown",
   "metadata": {},
   "source": [
    "# Constraint Satisfaction Problems\n",
    "\n",
    "As we saw, many AI problems can be modelled as a graph of states that a problem can be in. We then use a search algorithm to find a path in this graph that leads to the solution. One type of problems that can be solved in this manner are Constraint Satisfaction Problems. Constraints are basically conditions that cannot be violated during the process of solving the problem. When we arrive at the final solution, the states of the variables must obey all the constraints. \n",
    "\n",
    "Now, let us try to apply this to some real world problems. We will start with two relatively simple examples."
   ]
  },
  {
   "cell_type": "markdown",
   "metadata": {},
   "source": [
    "## 1. Hello World\n",
    "\n",
    "We could try to implement the search algorithms ourselves (using our knowledge of graphs), but since this would be a little difficult, we will be using a library. Let us first use the python library *python-constraint* to solve a very basic constraint problem.\n",
    "\n",
    "First install the library using following command:"
   ]
  },
  {
   "cell_type": "code",
   "execution_count": 1,
   "metadata": {},
   "outputs": [
    {
     "name": "stdout",
     "output_type": "stream",
     "text": [
      "Requirement already satisfied: python-constraint in c:\\users\\kieran\\appdata\\local\\programs\\python\\python311\\lib\\site-packages (1.4.0)\n",
      "Note: you may need to restart the kernel to use updated packages.\n"
     ]
    },
    {
     "name": "stderr",
     "output_type": "stream",
     "text": [
      "\n",
      "[notice] A new release of pip is available: 23.2.1 -> 23.3.2\n",
      "[notice] To update, run: python.exe -m pip install --upgrade pip\n"
     ]
    }
   ],
   "source": [
    "pip install python-constraint"
   ]
  },
  {
   "cell_type": "code",
   "execution_count": 2,
   "metadata": {},
   "outputs": [
    {
     "name": "stdout",
     "output_type": "stream",
     "text": [
      "0\n",
      "1\n",
      "2\n",
      "3\n",
      "4\n"
     ]
    }
   ],
   "source": [
    "# we will use the python range function\n",
    "\n",
    "for i in range(5):\n",
    "    print(i)"
   ]
  },
  {
   "cell_type": "markdown",
   "metadata": {},
   "source": [
    "Now define a constraint problem with two variables within a specific range."
   ]
  },
  {
   "cell_type": "code",
   "execution_count": 3,
   "metadata": {},
   "outputs": [],
   "source": [
    "from constraint import *\n",
    "problem = Problem()\n",
    "\n",
    "problem.addVariable('a', range(8))\n",
    "problem.addVariable('b', range(12))"
   ]
  },
  {
   "cell_type": "markdown",
   "metadata": {},
   "source": [
    "Add the constraint the variables must obey."
   ]
  },
  {
   "cell_type": "code",
   "execution_count": 4,
   "metadata": {},
   "outputs": [],
   "source": [
    "# the lambda expression states that for every solution b must be two times a\n",
    "problem.addConstraint(lambda a, b: a * 2 == b)"
   ]
  },
  {
   "cell_type": "markdown",
   "metadata": {},
   "source": [
    "Let's see what solutions can be found. Check the results! Are the constraints satisfied?"
   ]
  },
  {
   "cell_type": "code",
   "execution_count": 5,
   "metadata": {},
   "outputs": [
    {
     "name": "stdout",
     "output_type": "stream",
     "text": [
      "[{'a': 5, 'b': 10}, {'a': 4, 'b': 8}, {'a': 3, 'b': 6}, {'a': 2, 'b': 4}, {'a': 1, 'b': 2}, {'a': 0, 'b': 0}]\n"
     ]
    }
   ],
   "source": [
    "solutions = problem.getSolutions()\n",
    "print (solutions)"
   ]
  },
  {
   "cell_type": "markdown",
   "metadata": {},
   "source": [
    "## 2. Numbers and values\n",
    "\n",
    "One more simple example before getting to the real stuff. We will be using a package called *simpleai*. It contains various routines that are useful in building solutions using heuristic search techniques.\n",
    "\n",
    "First install the library using following command:"
   ]
  },
  {
   "cell_type": "code",
   "execution_count": 6,
   "metadata": {},
   "outputs": [
    {
     "name": "stdout",
     "output_type": "stream",
     "text": [
      "Requirement already satisfied: simpleai in c:\\users\\kieran\\appdata\\local\\programs\\python\\python311\\lib\\site-packages (0.8.3)\n",
      "Note: you may need to restart the kernel to use updated packages.\n"
     ]
    },
    {
     "name": "stderr",
     "output_type": "stream",
     "text": [
      "\n",
      "[notice] A new release of pip is available: 23.2.1 -> 23.3.2\n",
      "[notice] To update, run: python.exe -m pip install --upgrade pip\n"
     ]
    }
   ],
   "source": [
    "pip install simpleai"
   ]
  },
  {
   "cell_type": "code",
   "execution_count": 7,
   "metadata": {},
   "outputs": [
    {
     "name": "stdout",
     "output_type": "stream",
     "text": [
      "{1, 2, 3, 4}\n"
     ]
    }
   ],
   "source": [
    "# we will use the python set function to remove duplicated values in a collection of values\n",
    "\n",
    "print(set({ 1, 2, 3, 1, 2, 4, 3}))"
   ]
  },
  {
   "cell_type": "markdown",
   "metadata": {},
   "source": [
    "We will first import the necessary classes and define the problem."
   ]
  },
  {
   "cell_type": "code",
   "execution_count": 8,
   "metadata": {},
   "outputs": [],
   "source": [
    "from simpleai.search import CspProblem, backtrack\n",
    "\n",
    "# we will try to find the value of four variables named number1, number2, number3, number4\n",
    "variables = ('number1', 'number2', 'number3', 'number4')\n",
    "\n",
    "# the list of values that each variable can take\n",
    "domains = {\n",
    "    'number1': [1, 2, 3],\n",
    "    'number2': [1, 3],\n",
    "    'number3': [2, 4],\n",
    "    'number4': [2, 3, 4],\n",
    "}\n",
    "\n",
    "# define all the constraints, a constraint is a function with two parameters: variables and values\n",
    "# the constraint returns true if the values obey the constraint, false otherwise\n",
    "\n",
    "# a constraint that expects all the different variables to have different values\n",
    "def constraint_unique(variables, values):\n",
    "    # check if all the values are unique\n",
    "    if len(values) == len(set(values)): # remove repeated values and count\n",
    "        return True\n",
    "    else:\n",
    "        return False\n",
    "\n",
    "# a constraint that expects the first variable to be bigger than the second\n",
    "def constraint_bigger(variables, values):\n",
    "    return values[0] > values[1] # short notation (if-then-else is not necessary)\n",
    "\n",
    "# a constraint that expects two variables to be one odd and the other even\n",
    "def constraint_odd_even(variables, values):\n",
    "    if values[0] % 2 == 0:\n",
    "        return values[1] % 2 == 1  # first even, expect second to be odd\n",
    "    else:\n",
    "        return values[1] % 2 == 0  # first odd, expect second to be even"
   ]
  },
  {
   "cell_type": "markdown",
   "metadata": {},
   "source": [
    "Define the constraints for various scenarios. In this case, we specify three constraints as follows:\n",
    "    \n",
    "1. number1, number2 and number3 should be different values\n",
    "2. number3 should be bigger than number2\n",
    "3. if number1 is odd, then number4 value should be even and vice versa\n",
    "\n",
    "And finaly search for a solution."
   ]
  },
  {
   "cell_type": "code",
   "execution_count": 9,
   "metadata": {},
   "outputs": [
    {
     "name": "stdout",
     "output_type": "stream",
     "text": [
      "\n",
      "Solutions: {'number1': 1, 'number2': 3, 'number3': 4, 'number4': 2}\n"
     ]
    }
   ],
   "source": [
    "constraints = [\n",
    "    (('number1', 'number2', 'number3'), constraint_unique),\n",
    "    (('number3', 'number2'), constraint_bigger),\n",
    "    (('number1', 'number4'), constraint_odd_even),\n",
    "    (('number4', 'number1'), constraint_odd_even),\n",
    "]\n",
    "\n",
    "problem = CspProblem(variables, domains, constraints)\n",
    "\n",
    "output = backtrack(problem)\n",
    "print('\\nSolutions:', output)"
   ]
  },
  {
   "cell_type": "markdown",
   "metadata": {},
   "source": [
    "You can check the __domains__ and the __constraints__ to see if the solutions satisfy all those constraints. By the way, there is more then one solution, the search algorithm stops after finding the first one."
   ]
  },
  {
   "cell_type": "markdown",
   "metadata": {},
   "source": [
    "## 3. Sudoku - Exercise\n",
    "\n",
    "Can you try to solve the following simplified sudoku puzzle? The aim is to fill the grid so that each row, column and box contains the same numbers (1 to 4).\n",
    "\n",
    "<img src=\"./resources/sudoku.png\"  style=\"height: 200px\"/>\n",
    "\n",
    "With a little more programming effort, you could use the same technique to solve a real sudoku (if you don't know what to do this evening)."
   ]
  },
  {
   "cell_type": "code",
   "execution_count": 10,
   "metadata": {},
   "outputs": [
    {
     "ename": "TypeError",
     "evalue": "unhashable type: 'list'",
     "output_type": "error",
     "traceback": [
      "\u001b[1;31m---------------------------------------------------------------------------\u001b[0m",
      "\u001b[1;31mTypeError\u001b[0m                                 Traceback (most recent call last)",
      "Cell \u001b[1;32mIn[10], line 39\u001b[0m\n\u001b[0;32m      9\u001b[0m constraints \u001b[38;5;241m=\u001b[39m [\n\u001b[0;32m     10\u001b[0m     ((grid[\u001b[38;5;241m0\u001b[39m][\u001b[38;5;241m0\u001b[39m],grid[\u001b[38;5;241m0\u001b[39m][\u001b[38;5;241m1\u001b[39m],grid[\u001b[38;5;241m0\u001b[39m][\u001b[38;5;241m2\u001b[39m],grid[\u001b[38;5;241m0\u001b[39m][\u001b[38;5;241m3\u001b[39m]),constraint_unique),\n\u001b[0;32m     11\u001b[0m     ((grid[\u001b[38;5;241m1\u001b[39m][\u001b[38;5;241m0\u001b[39m],grid[\u001b[38;5;241m1\u001b[39m][\u001b[38;5;241m1\u001b[39m],grid[\u001b[38;5;241m1\u001b[39m][\u001b[38;5;241m2\u001b[39m],grid[\u001b[38;5;241m1\u001b[39m][\u001b[38;5;241m3\u001b[39m]),constraint_unique),\n\u001b[1;32m   (...)\u001b[0m\n\u001b[0;32m     17\u001b[0m     ((grid[\u001b[38;5;241m2\u001b[39m][\u001b[38;5;241m2\u001b[39m],grid[\u001b[38;5;241m2\u001b[39m][\u001b[38;5;241m3\u001b[39m],grid[\u001b[38;5;241m3\u001b[39m][\u001b[38;5;241m2\u001b[39m],grid[\u001b[38;5;241m3\u001b[39m][\u001b[38;5;241m3\u001b[39m]),constraint_unique),\n\u001b[0;32m     18\u001b[0m ]\n\u001b[0;32m     20\u001b[0m domains \u001b[38;5;241m=\u001b[39m {\n\u001b[0;32m     21\u001b[0m     grid[\u001b[38;5;241m0\u001b[39m][\u001b[38;5;241m0\u001b[39m]: [\u001b[38;5;241m1\u001b[39m,\u001b[38;5;241m2\u001b[39m,\u001b[38;5;241m3\u001b[39m,\u001b[38;5;241m4\u001b[39m],\n\u001b[0;32m     22\u001b[0m     grid[\u001b[38;5;241m0\u001b[39m][\u001b[38;5;241m1\u001b[39m]: [\u001b[38;5;241m1\u001b[39m,\u001b[38;5;241m2\u001b[39m,\u001b[38;5;241m3\u001b[39m,\u001b[38;5;241m4\u001b[39m],\n\u001b[1;32m   (...)\u001b[0m\n\u001b[0;32m     36\u001b[0m     grid[\u001b[38;5;241m3\u001b[39m][\u001b[38;5;241m3\u001b[39m]: [\u001b[38;5;241m1\u001b[39m,\u001b[38;5;241m2\u001b[39m,\u001b[38;5;241m3\u001b[39m,\u001b[38;5;241m4\u001b[39m],\n\u001b[0;32m     37\u001b[0m }\n\u001b[1;32m---> 39\u001b[0m problem \u001b[38;5;241m=\u001b[39m \u001b[43mCspProblem\u001b[49m\u001b[43m(\u001b[49m\u001b[43mgrid\u001b[49m\u001b[43m,\u001b[49m\u001b[43m \u001b[49m\u001b[43mdomains\u001b[49m\u001b[43m,\u001b[49m\u001b[43m \u001b[49m\u001b[43mconstraints\u001b[49m\u001b[43m)\u001b[49m\n\u001b[0;32m     41\u001b[0m output \u001b[38;5;241m=\u001b[39m backtrack(problem)\n\u001b[0;32m     42\u001b[0m \u001b[38;5;28mprint\u001b[39m(output)\n",
      "File \u001b[1;32mc:\\Users\\kieran\\AppData\\Local\\Programs\\Python\\Python311\\Lib\\site-packages\\simpleai\\search\\models.py:187\u001b[0m, in \u001b[0;36mCspProblem.__init__\u001b[1;34m(self, variables, domains, constraints)\u001b[0m\n\u001b[0;32m    184\u001b[0m \u001b[38;5;28mself\u001b[39m\u001b[38;5;241m.\u001b[39mconstraints \u001b[38;5;241m=\u001b[39m constraints\n\u001b[0;32m    186\u001b[0m \u001b[38;5;66;03m# variable-based constraints dict\u001b[39;00m\n\u001b[1;32m--> 187\u001b[0m \u001b[38;5;28mself\u001b[39m\u001b[38;5;241m.\u001b[39mvar_contraints \u001b[38;5;241m=\u001b[39m \u001b[38;5;28;43mdict\u001b[39;49m\u001b[43m(\u001b[49m\u001b[43m[\u001b[49m\u001b[43m(\u001b[49m\u001b[43mv\u001b[49m\u001b[43m,\u001b[49m\u001b[43m \u001b[49m\u001b[43m[\u001b[49m\u001b[43mconstraint\u001b[49m\n\u001b[0;32m    188\u001b[0m \u001b[43m                                 \u001b[49m\u001b[38;5;28;43;01mfor\u001b[39;49;00m\u001b[43m \u001b[49m\u001b[43mconstraint\u001b[49m\u001b[43m \u001b[49m\u001b[38;5;129;43;01min\u001b[39;49;00m\u001b[43m \u001b[49m\u001b[43mconstraints\u001b[49m\n\u001b[0;32m    189\u001b[0m \u001b[43m                                 \u001b[49m\u001b[38;5;28;43;01mif\u001b[39;49;00m\u001b[43m \u001b[49m\u001b[43mv\u001b[49m\u001b[43m \u001b[49m\u001b[38;5;129;43;01min\u001b[39;49;00m\u001b[43m \u001b[49m\u001b[43mconstraint\u001b[49m\u001b[43m[\u001b[49m\u001b[38;5;241;43m0\u001b[39;49m\u001b[43m]\u001b[49m\u001b[43m]\u001b[49m\u001b[43m)\u001b[49m\n\u001b[0;32m    190\u001b[0m \u001b[43m                            \u001b[49m\u001b[38;5;28;43;01mfor\u001b[39;49;00m\u001b[43m \u001b[49m\u001b[43mv\u001b[49m\u001b[43m \u001b[49m\u001b[38;5;129;43;01min\u001b[39;49;00m\u001b[43m \u001b[49m\u001b[43mvariables\u001b[49m\u001b[43m]\u001b[49m\u001b[43m)\u001b[49m\n\u001b[0;32m    192\u001b[0m \u001b[38;5;66;03m# calculate degree of each variable\u001b[39;00m\n\u001b[0;32m    193\u001b[0m \u001b[38;5;28mself\u001b[39m\u001b[38;5;241m.\u001b[39mvar_degrees \u001b[38;5;241m=\u001b[39m \u001b[38;5;28mdict\u001b[39m([(v, \u001b[38;5;28mlen\u001b[39m(\u001b[38;5;28mself\u001b[39m\u001b[38;5;241m.\u001b[39mvar_contraints[v]))\n\u001b[0;32m    194\u001b[0m                          \u001b[38;5;28;01mfor\u001b[39;00m v \u001b[38;5;129;01min\u001b[39;00m variables])\n",
      "\u001b[1;31mTypeError\u001b[0m: unhashable type: 'list'"
     ]
    }
   ],
   "source": [
    "from simpleai.search import CspProblem, backtrack\n",
    "\n",
    "grid = [\n",
    "    [0,0,4,3],\n",
    "    [0,0,0,0],\n",
    "    [0,0,0,0],\n",
    "    [2,3,0,0]\n",
    "]\n",
    "constraints = [\n",
    "    ((grid[0][0],grid[0][1],grid[0][2],grid[0][3]),constraint_unique),\n",
    "    ((grid[1][0],grid[1][1],grid[1][2],grid[1][3]),constraint_unique),\n",
    "    ((grid[2][0],grid[2][1],grid[2][2],grid[2][3]),constraint_unique),\n",
    "    ((grid[3][0],grid[3][1],grid[3][2],grid[3][3]),constraint_unique),\n",
    "    ((grid[0][0],grid[0][1],grid[1][0],grid[1][1]),constraint_unique),\n",
    "    ((grid[0][2],grid[0][3],grid[1][2],grid[1][3]),constraint_unique),\n",
    "    ((grid[2][0],grid[2][1],grid[3][0],grid[3][1]),constraint_unique),\n",
    "    ((grid[2][2],grid[2][3],grid[3][2],grid[3][3]),constraint_unique),\n",
    "]\n",
    "\n",
    "domains = {\n",
    "    grid[0][0]: [1,2,3,4],\n",
    "    grid[0][1]: [1,2,3,4],\n",
    "    grid[0][2]: [1,2,3,4],\n",
    "    grid[0][3]: [1,2,3,4],\n",
    "    grid[1][0]: [1,2,3,4],\n",
    "    grid[1][1]: [1,2,3,4],\n",
    "    grid[1][2]: [1,2,3,4],\n",
    "    grid[1][3]: [1,2,3,4],\n",
    "    grid[2][0]: [1,2,3,4],\n",
    "    grid[2][1]: [1,2,3,4],\n",
    "    grid[2][2]: [1,2,3,4],\n",
    "    grid[2][3]: [1,2,3,4],\n",
    "    grid[3][0]: [1,2,3,4],\n",
    "    grid[3][1]: [1,2,3,4],\n",
    "    grid[3][2]: [1,2,3,4],\n",
    "    grid[3][3]: [1,2,3,4],\n",
    "}\n",
    "\n",
    "problem = CspProblem(grid, domains, constraints)\n",
    "\n",
    "output = backtrack(problem)\n",
    "print(output)\n",
    "\n",
    "\n"
   ]
  },
  {
   "cell_type": "code",
   "execution_count": 11,
   "metadata": {},
   "outputs": [
    {
     "name": "stdout",
     "output_type": "stream",
     "text": [
      "[[1 2 4 3]\n",
      " [3 4 2 1]\n",
      " [4 1 3 2]\n",
      " [2 3 1 4]]\n"
     ]
    }
   ],
   "source": [
    "from simpleai.search import CspProblem, backtrack\n",
    "import numpy as np\n",
    "\n",
    "grid = [\n",
    "    [0,0,4,3],\n",
    "    [0,0,0,0],\n",
    "    [0,0,0,0],\n",
    "    [2,3,0,0]\n",
    "]\n",
    "\n",
    "def possible(y,x,n):\n",
    "    global grid\n",
    "    for i in range(0,4):\n",
    "        if grid[y][i]==n:\n",
    "            return False\n",
    "    for i in range(0,4):\n",
    "        if grid[i][x] == n:\n",
    "            return False\n",
    "    x0=(x//2)*2\n",
    "    y0=(y//2)*2\n",
    "    for i in range(0,2):\n",
    "        for j in range(0,2):\n",
    "            if grid[y0+i][x0+j] == n:\n",
    "                return False\n",
    "    return True\n",
    "\n",
    "# print(np.matrix(grid))\n",
    "\n",
    "# print(possible(0,0,4))\n",
    "\n",
    "def solve():\n",
    "    global grid\n",
    "    for y in range(4):\n",
    "        for x in range(4):\n",
    "            if grid[y][x] == 0:\n",
    "                for n in range(1,5):\n",
    "                    if possible(y,x,n):\n",
    "                        grid[y][x] = n\n",
    "                        solve()\n",
    "                        grid[y][x] = 0\n",
    "                return\n",
    "    print(np.matrix(grid))\n",
    "    input('More?')\n",
    "\n",
    "solve()\n",
    "\n"
   ]
  },
  {
   "cell_type": "code",
   "execution_count": 1,
   "metadata": {},
   "outputs": [
    {
     "name": "stdout",
     "output_type": "stream",
     "text": [
      "{'x0y0': 1, 'x0y1': 2, 'x0y2': 3, 'x0y3': 4, 'x1y0': 3, 'x1y1': 4, 'x1y2': 1, 'x1y3': 2, 'x2y0': 4, 'x2y1': 1, 'x2y2': 2, 'x2y3': 3, 'x3y0': 2, 'x3y1': 3, 'x3y2': 4, 'x3y3': 1}\n",
      "[[1 2 3 4]\n",
      " [3 4 1 2]\n",
      " [4 1 2 3]\n",
      " [2 3 4 1]]\n",
      "[[1 2 3 4]\n",
      " [3 4 1 2]\n",
      " [4 1 2 3]\n",
      " [2 3 4 1]]\n"
     ]
    }
   ],
   "source": [
    "from simpleai.search import CspProblem, backtrack\n",
    "import numpy as np\n",
    "\n",
    "def constraint_unique(variables, values):\n",
    "    # check if all the values are unique\n",
    "    if len(values) == len(set(values)): # remove repeated values and count\n",
    "        return True\n",
    "    else:\n",
    "        return False\n",
    "\n",
    "grid = [\n",
    "    [0,0,4,3],\n",
    "    [0,0,0,0],\n",
    "    [0,0,0,0],\n",
    "    [2,3,0,0]\n",
    "]\n",
    "\n",
    "grid2 = ('x0y0','x0y1','x0y2','x0y3',\n",
    "         'x1y0','x1y1','x1y2','x1y3',\n",
    "         'x2y0','x2y1','x2y2','x2y3',\n",
    "         'x3y0','x3y1','x3y2','x3y3')\n",
    "\n",
    "domains2 = {\n",
    "    'x0y0': [1,2,3,4],\n",
    "    'x0y1': [1,2,3,4],\n",
    "    'x0y2': [3],\n",
    "    'x0y3': [4],\n",
    "    'x1y0': [1,2,3,4],\n",
    "    'x1y1': [1,2,3,4],\n",
    "    'x1y2': [1,2,3,4],\n",
    "    'x1y3': [1,2,3,4],\n",
    "    'x2y0': [1,2,3,4],\n",
    "    'x2y1': [1,2,3,4],\n",
    "    'x2y2': [1,2,3,4],\n",
    "    'x2y3': [1,2,3,4],\n",
    "    'x3y0': [2],\n",
    "    'x3y1': [3],\n",
    "    'x3y2': [1,2,3,4],\n",
    "    'x3y3': [1,2,3,4]\n",
    "}\n",
    "\n",
    "constraints2 = [\n",
    "    (('x0y0', 'x0y1', 'x0y2','x0y3'), constraint_unique),\n",
    "    (('x1y0', 'x1y1', 'x1y2','x1y3'), constraint_unique),\n",
    "    (('x2y0', 'x2y1', 'x2y2','x2y3'), constraint_unique),\n",
    "    (('x3y0', 'x3y1', 'x3y2','x3y3'), constraint_unique),\n",
    "\n",
    "    (('x0y0', 'x1y0', 'x2y0','x3y0'), constraint_unique),\n",
    "    (('x0y1', 'x1y1', 'x2y1','x3y1'), constraint_unique),\n",
    "    (('x0y2', 'x1y2', 'x2y2','x3y2'), constraint_unique),\n",
    "    (('x0y3', 'x1y3', 'x2y3','x3y3'), constraint_unique),\n",
    "\n",
    "    (('x0y0', 'x0y1', 'x1y0','x1y1'), constraint_unique),\n",
    "    (('x2y0', 'x2y1', 'x3y0','x3y1'), constraint_unique),\n",
    "    (('x0y2', 'x0y3', 'x1y2','x1y3'), constraint_unique),\n",
    "    (('x2y2', 'x2y3', 'x3y2','x3y3'), constraint_unique),\n",
    "]\n",
    "\n",
    "problem = CspProblem(grid2, domains2, constraints2)\n",
    "\n",
    "output = backtrack(problem)\n",
    "print(output)\n",
    "\n",
    "grid[0][0] = output['x0y0']\n",
    "grid[0][1] = output['x0y1']\n",
    "grid[0][2] = output['x0y2']\n",
    "grid[0][3] = output['x0y3']\n",
    "\n",
    "grid[1][0] = output['x1y0']\n",
    "grid[1][1] = output['x1y1']\n",
    "grid[1][2] = output['x1y2']\n",
    "grid[1][3] = output['x1y3']\n",
    "\n",
    "grid[2][0] = output['x2y0']\n",
    "grid[2][1] = output['x2y1']\n",
    "grid[2][2] = output['x2y2']\n",
    "grid[2][3] = output['x2y3']\n",
    "\n",
    "grid[3][0] = output['x3y0']\n",
    "grid[3][1] = output['x3y1']\n",
    "grid[3][2] = output['x3y2']\n",
    "grid[3][3] = output['x3y3']\n",
    "\n",
    "print(np.matrix(grid))\n",
    "\n",
    "for x in range(4):\n",
    "    for y in range(4):\n",
    "        grid[x][y] = output['x'+str(x)+'y'+str(y)]\n",
    "print(np.matrix(grid))"
   ]
  }
 ],
 "metadata": {
  "kernelspec": {
   "display_name": "Python 3.10.6 ('AI_env': venv)",
   "language": "python",
   "name": "python3"
  },
  "language_info": {
   "codemirror_mode": {
    "name": "ipython",
    "version": 3
   },
   "file_extension": ".py",
   "mimetype": "text/x-python",
   "name": "python",
   "nbconvert_exporter": "python",
   "pygments_lexer": "ipython3",
   "version": "3.11.5"
  },
  "vscode": {
   "interpreter": {
    "hash": "ee412e95a0a5fcd4bc718149b06e63b52799b36d97dd83a114f114becc1d8225"
   }
  }
 },
 "nbformat": 4,
 "nbformat_minor": 2
}
