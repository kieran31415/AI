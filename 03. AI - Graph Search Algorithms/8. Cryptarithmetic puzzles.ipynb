{
 "cells": [
  {
   "cell_type": "markdown",
   "metadata": {},
   "source": [
    "# Cryptarithmetic Puzzles\n",
    "\n",
    "A cryptarithmetic puzzle is a mathematical exercise where each letter in an arithmetic operation represents a unique digit. The goal is to find the digits such that a given mathematical equation is verified:\n",
    "\n",
    "<img src=\"./resources/cp.png\"/>"
   ]
  },
  {
   "cell_type": "markdown",
   "metadata": {},
   "source": [
    "## 1. TWO + TWO = FOUR\n",
    "\n",
    "We will try to find a solution for:\n",
    "\n",
    "```\n",
    "  TWO\n",
    "+ TWO\n",
    "-----\n",
    " FOUR\n",
    "```\n",
    "\n",
    "For TWO + TWO = FOUR, the constraints are as follows:\n",
    "\n",
    "- The equation: TWO + TWO = FOUR.\n",
    "- Each of the six letters must be a different digit.\n",
    "- T and F can't be zero (since we don't write leading zeros in numbers)."
   ]
  },
  {
   "cell_type": "code",
   "execution_count": 1,
   "metadata": {},
   "outputs": [
    {
     "data": {
      "text/plain": [
       "[1, 2, 3, 4, 5, 6, 7, 8, 9]"
      ]
     },
     "execution_count": 1,
     "metadata": {},
     "output_type": "execute_result"
    }
   ],
   "source": [
    "# we will create a list of possible values as follows\n",
    "list(range(1, 10))"
   ]
  },
  {
   "cell_type": "markdown",
   "metadata": {},
   "source": [
    "I think you can figure out the program logic yourself. Run the program and check if the solution is right."
   ]
  },
  {
   "cell_type": "code",
   "execution_count": 2,
   "metadata": {},
   "outputs": [
    {
     "name": "stdout",
     "output_type": "stream",
     "text": [
      "\n",
      "Solutions: {'F': 1, 'T': 7, 'U': 3, 'W': 6, 'R': 0, 'O': 5, 'C_10': 1, 'C_100': 1, 'C_1000': 1}\n"
     ]
    }
   ],
   "source": [
    "from simpleai.search import CspProblem, backtrack\n",
    "\n",
    "variables = ('F', 'T', 'U', 'W', 'R', 'O', 'C_10', 'C_100', 'C_1000')\n",
    "\n",
    "# the list of values that each variable can take\n",
    "domains = {\n",
    "    'F': list(range(1, 10)),\n",
    "    'T': list(range(1, 10)),\n",
    "    'U': list(range(0, 10)),\n",
    "    'W': list(range(0, 10)),\n",
    "    'R': list(range(0, 10)),\n",
    "    'O': list(range(0, 10)),\n",
    "    'C_10': list(range(0, 10)),\n",
    "    'C_100': list(range(0, 10)),\n",
    "    'C_1000': list(range(1, 10)),\n",
    "}\n",
    "\n",
    "def constraint_unique(variables, values):\n",
    "    return len(values) == len(set(values))  # remove repeated values and count\n",
    "\n",
    "def constraint_1(variables, values):\n",
    "    # O + O = R + 10 * C_10\n",
    "    return values[0] + values[0] == values[1] + 10 * values[2]\n",
    "\n",
    "def constraint_2(variables, values):\n",
    "    # C_10 + W + W = U + 10 * C_100\n",
    "    return values[0] + values[1] + values[1] == values[2] + 10 * values[3]\n",
    "\n",
    "def constraint_3(variables, values):\n",
    "    # C_100 + T + T = O + 10 * C_1000\n",
    "    return values[0] + values[1] + values[1] == values[2] + 10 * values[3]\n",
    "\n",
    "def constraint_4(variables, values):\n",
    "    # C_1000 = F\n",
    "    return values[0] == values[1]\n",
    "\n",
    "constraints = [\n",
    "    (('F', 'T', 'U', 'W', 'R', 'O'), constraint_unique),\n",
    "    (('O', 'R', 'C_10'), constraint_1),\n",
    "    (('C_10', 'W', 'U', 'C_100'), constraint_2),\n",
    "    (('C_100', 'T', 'O', 'C_1000'), constraint_3),\n",
    "    (('C_1000', 'F'), constraint_4),   \n",
    "]\n",
    "\n",
    "problem = CspProblem(variables, domains, constraints)\n",
    "\n",
    "output = backtrack(problem)\n",
    "print('\\nSolutions:', output)"
   ]
  },
  {
   "cell_type": "code",
   "execution_count": 3,
   "metadata": {},
   "outputs": [
    {
     "name": "stdout",
     "output_type": "stream",
     "text": [
      "\n",
      "Solutions: {'F': 1, 'T': 7, 'U': 3, 'W': 6, 'R': 0, 'O': 5}\n"
     ]
    }
   ],
   "source": [
    "# second solution, much easier\n",
    "\n",
    "from simpleai.search import CspProblem, backtrack\n",
    "\n",
    "variables = ('F', 'T', 'U', 'W', 'R', 'O')\n",
    "\n",
    "# the list of values that each variable can take\n",
    "domains = {\n",
    "    'F': list(range(1, 10)),\n",
    "    'T': list(range(1, 10)),\n",
    "    'U': list(range(0, 10)),\n",
    "    'W': list(range(0, 10)),\n",
    "    'R': list(range(0, 10)),\n",
    "    'O': list(range(0, 10)),\n",
    "}\n",
    "\n",
    "def constraint_unique(variables, values):\n",
    "    return len(values) == len(set(values))  # remove repeated values and count\n",
    "\n",
    "def constraint_add(variables, values):\n",
    "    factor = int(str(values[1]) + str(values[3]) + str(values[5]))\n",
    "    result = int(str(values[0]) + str(values[5]) + str(values[2]) + str(values[4]))\n",
    "    return (factor + factor) == result\n",
    "\n",
    "constraints = [\n",
    "    (('F', 'T', 'U', 'W', 'R', 'O'), constraint_unique),\n",
    "    (('F', 'T', 'U', 'W', 'R', 'O'), constraint_add),\n",
    "]\n",
    "\n",
    "problem = CspProblem(variables, domains, constraints)\n",
    "\n",
    "output = backtrack(problem)\n",
    "print('\\nSolutions:', output)"
   ]
  },
  {
   "cell_type": "markdown",
   "metadata": {},
   "source": [
    "## 2. ODD + ODD = EVEN - Exercise\n",
    "\n",
    "One more? Try to find a solution for:\n",
    "\n",
    "```\n",
    "  ODD\n",
    "+ ODD\n",
    "-----\n",
    " EVEN\n",
    "```"
   ]
  },
  {
   "cell_type": "code",
   "execution_count": 5,
   "metadata": {},
   "outputs": [
    {
     "name": "stdout",
     "output_type": "stream",
     "text": [
      "\n",
      "Solutions: {'O': 6, 'D': 5, 'E': 1, 'V': 3, 'N': 0}\n"
     ]
    }
   ],
   "source": [
    "from simpleai.search import CspProblem, backtrack\n",
    "\n",
    "variables = ('O', 'D', 'E', 'V', 'N')\n",
    "\n",
    "domains = {\n",
    "    'O': list(range(1, 10)),\n",
    "    'E': list(range(1, 10)),\n",
    "    'D': list(range(0, 10)),\n",
    "    'V': list(range(0, 10)),\n",
    "    'N': list(range(0, 10)),\n",
    "}\n",
    "\n",
    "def constraint_unique(variables, values):\n",
    "    return len(values) == len(set(values))  # remove repeated values and count\n",
    "\n",
    "def constraint_add(variables, values):\n",
    "    factor = int(str(values[0]) + str(values[1]) + str(values[1]))\n",
    "    result = int(str(values[2]) + str(values[3]) + str(values[2]) + str(values[4]))\n",
    "    return (factor + factor) == result\n",
    "\n",
    "constraints = [\n",
    "    (('O', 'D', 'E', 'V', 'N'), constraint_unique),\n",
    "    (('O', 'D', 'E', 'V', 'N'), constraint_add),\n",
    "]\n",
    "\n",
    "problem = CspProblem(variables, domains, constraints)\n",
    "\n",
    "output = backtrack(problem)\n",
    "print('\\nSolutions:', output)\n"
   ]
  },
  {
   "cell_type": "markdown",
   "metadata": {},
   "source": [
    "## 3. AB x C = AAA - Exercise\n",
    "\n",
    "Try to find a solution for:\n",
    "\n",
    "```\n",
    "   AB\n",
    "x   C\n",
    "-----\n",
    "  AAA\n",
    "```"
   ]
  },
  {
   "cell_type": "code",
   "execution_count": 12,
   "metadata": {},
   "outputs": [
    {
     "name": "stdout",
     "output_type": "stream",
     "text": [
      "\n",
      "Solutions: {'A': 3, 'B': 7, 'C': 9}\n"
     ]
    }
   ],
   "source": [
    "from simpleai.search import CspProblem, backtrack\n",
    "\n",
    "variables = ('A', 'B', 'C')\n",
    "\n",
    "domains = {\n",
    "    'A': list(range(1, 10)),\n",
    "    'C': list(range(1, 10)),\n",
    "    'B': list(range(0, 10))\n",
    "}\n",
    "\n",
    "def constraint_unique(variables, values):\n",
    "    return len(values) == len(set(values))  # remove repeated values and count\n",
    "\n",
    "def constraint_add(variables, values):\n",
    "    first = int(str(values[0]) + str(values[1]))\n",
    "    second = int(str(values[2]))\n",
    "    result = int(str(values[0]) + str(values[0]) + str(values[0]))\n",
    "    return (first * second) == result\n",
    "\n",
    "constraints = [\n",
    "    (('A', 'B', 'C'), constraint_unique),\n",
    "    (('A', 'B', 'C'), constraint_add),\n",
    "]\n",
    "\n",
    "problem = CspProblem(variables, domains, constraints)\n",
    "\n",
    "output = backtrack(problem)\n",
    "print('\\nSolutions:', output)"
   ]
  },
  {
   "cell_type": "markdown",
   "metadata": {},
   "source": [
    "<h1>Task 1</h1>"
   ]
  },
  {
   "cell_type": "code",
   "execution_count": 4,
   "metadata": {},
   "outputs": [
    {
     "ename": "KeyboardInterrupt",
     "evalue": "Interrupted by user",
     "output_type": "error",
     "traceback": [
      "\u001b[1;31m---------------------------------------------------------------------------\u001b[0m",
      "\u001b[1;31mKeyboardInterrupt\u001b[0m                         Traceback (most recent call last)",
      "\u001b[1;32md:\\school23-24\\AI\\03. AI - Graph Search Algorithms\\8. Cryptarithmetic puzzles.ipynb Cell 12\u001b[0m line \u001b[0;36m4\n\u001b[0;32m     <a href='vscode-notebook-cell:/d%3A/school23-24/AI/03.%20AI%20-%20Graph%20Search%20Algorithms/8.%20Cryptarithmetic%20puzzles.ipynb#X14sZmlsZQ%3D%3D?line=36'>37</a>\u001b[0m last_word\u001b[39m=\u001b[39m\u001b[39m'\u001b[39m\u001b[39m'\u001b[39m\n\u001b[0;32m     <a href='vscode-notebook-cell:/d%3A/school23-24/AI/03.%20AI%20-%20Graph%20Search%20Algorithms/8.%20Cryptarithmetic%20puzzles.ipynb#X14sZmlsZQ%3D%3D?line=38'>39</a>\u001b[0m word1 \u001b[39m=\u001b[39m \u001b[39minput\u001b[39m(\u001b[39m'\u001b[39m\u001b[39mWhat is your first word? \u001b[39m\u001b[39m'\u001b[39m)\n\u001b[1;32m---> <a href='vscode-notebook-cell:/d%3A/school23-24/AI/03.%20AI%20-%20Graph%20Search%20Algorithms/8.%20Cryptarithmetic%20puzzles.ipynb#X14sZmlsZQ%3D%3D?line=39'>40</a>\u001b[0m check_length1(word1)\n\u001b[0;32m     <a href='vscode-notebook-cell:/d%3A/school23-24/AI/03.%20AI%20-%20Graph%20Search%20Algorithms/8.%20Cryptarithmetic%20puzzles.ipynb#X14sZmlsZQ%3D%3D?line=40'>41</a>\u001b[0m word2 \u001b[39m=\u001b[39m \u001b[39minput\u001b[39m(\u001b[39m'\u001b[39m\u001b[39mWhat is your second word? \u001b[39m\u001b[39m'\u001b[39m)\n\u001b[0;32m     <a href='vscode-notebook-cell:/d%3A/school23-24/AI/03.%20AI%20-%20Graph%20Search%20Algorithms/8.%20Cryptarithmetic%20puzzles.ipynb#X14sZmlsZQ%3D%3D?line=41'>42</a>\u001b[0m check_length2(word2)\n",
      "\u001b[1;32md:\\school23-24\\AI\\03. AI - Graph Search Algorithms\\8. Cryptarithmetic puzzles.ipynb Cell 12\u001b[0m line \u001b[0;36m1\n\u001b[0;32m     <a href='vscode-notebook-cell:/d%3A/school23-24/AI/03.%20AI%20-%20Graph%20Search%20Algorithms/8.%20Cryptarithmetic%20puzzles.ipynb#X14sZmlsZQ%3D%3D?line=13'>14</a>\u001b[0m \u001b[39mdef\u001b[39;00m \u001b[39mcheck_length1\u001b[39m(word):\n\u001b[0;32m     <a href='vscode-notebook-cell:/d%3A/school23-24/AI/03.%20AI%20-%20Graph%20Search%20Algorithms/8.%20Cryptarithmetic%20puzzles.ipynb#X14sZmlsZQ%3D%3D?line=14'>15</a>\u001b[0m     \u001b[39mif\u001b[39;00m \u001b[39mlen\u001b[39m(word)\u001b[39m>\u001b[39m\u001b[39m5\u001b[39m:\n\u001b[1;32m---> <a href='vscode-notebook-cell:/d%3A/school23-24/AI/03.%20AI%20-%20Graph%20Search%20Algorithms/8.%20Cryptarithmetic%20puzzles.ipynb#X14sZmlsZQ%3D%3D?line=15'>16</a>\u001b[0m         word1 \u001b[39m=\u001b[39m \u001b[39minput\u001b[39;49m(\u001b[39m'\u001b[39;49m\u001b[39mThe word that you chose is invalid, please choose another one. \u001b[39;49m\u001b[39m'\u001b[39;49m)\n\u001b[0;32m     <a href='vscode-notebook-cell:/d%3A/school23-24/AI/03.%20AI%20-%20Graph%20Search%20Algorithms/8.%20Cryptarithmetic%20puzzles.ipynb#X14sZmlsZQ%3D%3D?line=16'>17</a>\u001b[0m         check_length1(word1)\n",
      "File \u001b[1;32m~\\AppData\\Local\\Packages\\PythonSoftwareFoundation.Python.3.10_qbz5n2kfra8p0\\LocalCache\\local-packages\\Python310\\site-packages\\ipykernel\\kernelbase.py:1177\u001b[0m, in \u001b[0;36mKernel.raw_input\u001b[1;34m(self, prompt)\u001b[0m\n\u001b[0;32m   1173\u001b[0m \u001b[39mif\u001b[39;00m \u001b[39mnot\u001b[39;00m \u001b[39mself\u001b[39m\u001b[39m.\u001b[39m_allow_stdin:\n\u001b[0;32m   1174\u001b[0m     \u001b[39mraise\u001b[39;00m StdinNotImplementedError(\n\u001b[0;32m   1175\u001b[0m         \u001b[39m\"\u001b[39m\u001b[39mraw_input was called, but this frontend does not support input requests.\u001b[39m\u001b[39m\"\u001b[39m\n\u001b[0;32m   1176\u001b[0m     )\n\u001b[1;32m-> 1177\u001b[0m \u001b[39mreturn\u001b[39;00m \u001b[39mself\u001b[39;49m\u001b[39m.\u001b[39;49m_input_request(\n\u001b[0;32m   1178\u001b[0m     \u001b[39mstr\u001b[39;49m(prompt),\n\u001b[0;32m   1179\u001b[0m     \u001b[39mself\u001b[39;49m\u001b[39m.\u001b[39;49m_parent_ident[\u001b[39m\"\u001b[39;49m\u001b[39mshell\u001b[39;49m\u001b[39m\"\u001b[39;49m],\n\u001b[0;32m   1180\u001b[0m     \u001b[39mself\u001b[39;49m\u001b[39m.\u001b[39;49mget_parent(\u001b[39m\"\u001b[39;49m\u001b[39mshell\u001b[39;49m\u001b[39m\"\u001b[39;49m),\n\u001b[0;32m   1181\u001b[0m     password\u001b[39m=\u001b[39;49m\u001b[39mFalse\u001b[39;49;00m,\n\u001b[0;32m   1182\u001b[0m )\n",
      "File \u001b[1;32m~\\AppData\\Local\\Packages\\PythonSoftwareFoundation.Python.3.10_qbz5n2kfra8p0\\LocalCache\\local-packages\\Python310\\site-packages\\ipykernel\\kernelbase.py:1219\u001b[0m, in \u001b[0;36mKernel._input_request\u001b[1;34m(self, prompt, ident, parent, password)\u001b[0m\n\u001b[0;32m   1216\u001b[0m             \u001b[39mbreak\u001b[39;00m\n\u001b[0;32m   1217\u001b[0m \u001b[39mexcept\u001b[39;00m \u001b[39mKeyboardInterrupt\u001b[39;00m:\n\u001b[0;32m   1218\u001b[0m     \u001b[39m# re-raise KeyboardInterrupt, to truncate traceback\u001b[39;00m\n\u001b[1;32m-> 1219\u001b[0m     \u001b[39mraise\u001b[39;00m \u001b[39mKeyboardInterrupt\u001b[39;00m(\u001b[39m\"\u001b[39m\u001b[39mInterrupted by user\u001b[39m\u001b[39m\"\u001b[39m) \u001b[39mfrom\u001b[39;00m \u001b[39mNone\u001b[39m\n\u001b[0;32m   1220\u001b[0m \u001b[39mexcept\u001b[39;00m \u001b[39mException\u001b[39;00m:\n\u001b[0;32m   1221\u001b[0m     \u001b[39mself\u001b[39m\u001b[39m.\u001b[39mlog\u001b[39m.\u001b[39mwarning(\u001b[39m\"\u001b[39m\u001b[39mInvalid Message:\u001b[39m\u001b[39m\"\u001b[39m, exc_info\u001b[39m=\u001b[39m\u001b[39mTrue\u001b[39;00m)\n",
      "\u001b[1;31mKeyboardInterrupt\u001b[0m: Interrupted by user"
     ]
    }
   ],
   "source": [
    "from simpleai.search import CspProblem, backtrack\n",
    "\n",
    "\n",
    "def check_last(first,second,last):\n",
    "    if len(first) > len(second):\n",
    "        if len(last)<len(first) or len(last)>len(first)+1:\n",
    "            last_word = input('The last word that you chose is invalid, please choose another one. ')\n",
    "            check_last(word1,word2,last_word)\n",
    "    if len(first) < len(second):\n",
    "        if len(last)<len(second) or len(last)>len(second)+1:\n",
    "            last_word = input('The last word that you chose is invalid, please choose another one. ')\n",
    "            check_last(word1,word2,last_word)\n",
    "\n",
    "def check_length1(word):\n",
    "    if len(word)>5:\n",
    "        word1 = input('The word that you chose is too long, please choose another one. ')\n",
    "        check_length1(word1)\n",
    "\n",
    "def check_length2(word):\n",
    "    if len(word)>5:\n",
    "        word2 = input('The word that you chose is too long, please choose another one. ')\n",
    "        check_length2(word2)\n",
    "\n",
    "def check_letters(letterslist):\n",
    "    if len(letterslist)>10:\n",
    "        input_words()\n",
    "        letters=[]\n",
    "\n",
    "\n",
    "def input_words():\n",
    "    word1 = input('There were to manny different letters. What is your first word? ')\n",
    "    word2 = input('What is your second word? ')\n",
    "    last_word = input('What is your last word? ')\n",
    "\n",
    "word1=''\n",
    "word2=''\n",
    "last_word=''\n",
    "\n",
    "word1 = input('What is your first word? ')\n",
    "check_length1(word1)\n",
    "word2 = input('What is your second word? ')\n",
    "check_length2(word2)\n",
    "last_word = input('What is your last word? ')\n",
    "\n",
    "check_last(word1,word2,last_word)\n",
    "\n",
    "letters=[]\n",
    "domains = {}\n",
    "\n",
    "def add_to_list(word):\n",
    "    for letter in word:\n",
    "        if letter not in letters:\n",
    "            letters.append(letter)\n",
    "\n",
    "add_to_list(word1)\n",
    "add_to_list(word2)\n",
    "add_to_list(last_word)\n",
    "\n",
    "variables = tuple(letters)\n",
    "for letter in variables:\n",
    "    if letter == word1[0] or letter == word2[0] or letter == last_word[0]:\n",
    "        domains[letter] = list(range(1, 10))\n",
    "    else:\n",
    "        domains[letter] = list(range(0, 10))\n",
    "\n",
    "def constraint_unique(variables, values):\n",
    "    return len(values) == len(set(values))\n",
    "\n",
    "def constraint_add(variables, values):\n",
    "    wordString1 = ''\n",
    "    for letter in word1:\n",
    "        wordString1+=str(values[variables.index(letter)])\n",
    "\n",
    "    wordString2 = ''\n",
    "    for letter in word2:\n",
    "        wordString2+=str(values[variables.index(letter)])\n",
    "    #print(wordString2)\n",
    "    wordStringlast = ''\n",
    "    for letter in last_word:\n",
    "        wordStringlast+=str(values[variables.index(letter)])\n",
    "    #print(wordStringlast)\n",
    "    return (int(wordString1) + int(wordString2)) == int(wordStringlast)\n",
    "\n",
    "constraints = [\n",
    "    (variables, constraint_unique),\n",
    "    (variables, constraint_add),\n",
    "]\n",
    "\n",
    "\n",
    "problem = CspProblem(variables, domains, constraints)\n",
    "\n",
    "output = backtrack(problem)\n",
    "print(word1,'+',word2,'=',last_word)\n",
    "print('\\nSolutions:', output)\n",
    "\n"
   ]
  }
 ],
 "metadata": {
  "kernelspec": {
   "display_name": "Python 3.10.6 64-bit",
   "language": "python",
   "name": "python3"
  },
  "language_info": {
   "codemirror_mode": {
    "name": "ipython",
    "version": 3
   },
   "file_extension": ".py",
   "mimetype": "text/x-python",
   "name": "python",
   "nbconvert_exporter": "python",
   "pygments_lexer": "ipython3",
   "version": "3.10.11"
  },
  "vscode": {
   "interpreter": {
    "hash": "3fc13ab7e79b368e8913ee9489736a3ec6aa6e620b54b7989a5eeb0416c11724"
   }
  }
 },
 "nbformat": 4,
 "nbformat_minor": 2
}
