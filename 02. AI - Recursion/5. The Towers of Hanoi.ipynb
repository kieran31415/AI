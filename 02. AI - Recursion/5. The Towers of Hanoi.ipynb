{
 "cells": [
  {
   "cell_type": "markdown",
   "metadata": {},
   "source": [
    "## The Towers of Hanoi\n",
    "\n",
    "**Important**: Do not use the Internet to find a recursive solution to solve the Tower of Hanoi problem, because you will ruin all the fun.\n",
    "\n",
    "Let's explain the rules of the towers of Hanoi puzzle once more. The puzzle starts with the disks in a neat stack in ascending order of size on one rod, the smallest at the top.\n",
    "\n",
    "<img src=\"./resources/towers.jpg\"  style=\"height: 250px\"/>\n",
    "\n",
    "The objective of the puzzle is to move the entire stack to another rod, obeying the following simple rules:\n",
    "\n",
    "- Only one disk can be moved at a time.\n",
    "- Each move consists of taking the upper disk from one of the stacks and placing it on top of another stack or on an empty rod.\n",
    "- No larger disk may be placed on top of a smaller disk."
   ]
  },
  {
   "cell_type": "markdown",
   "metadata": {},
   "source": [
    "## 1. Function declaration\n",
    "\n",
    "Now let's try to write a Python program to solve this puzzle. As you might have guessed, it's going to be a recursive function. First declare the function hanoi with four parameters. The first one is the number of disks to be moved (n), the second is the starting rod (source), the third parameter is the middle rod (we will call this one auxiliary) and the last parameter is the goal rod (destination). So the purpose of our function is to move *n* disks from *source* to *destination* using *auxiliary* as helper. If we named the three rods \"A\", \"B\" and \"C\" and we would like to play the game with 5 disks, the solution up to now would be:\n",
    "\n",
    "```python\n",
    "def hanoi(n, source, auxiliary, destination):\n",
    "    \n",
    "...\n",
    "\n",
    "hanoi(5, \"A\", \"B\", \"C\")\n",
    "```"
   ]
  },
  {
   "cell_type": "markdown",
   "metadata": {},
   "source": [
    "## 2. Base case\n",
    "\n",
    "Let's try to find the base case. Can you figure out this one yourself?\n",
    "\n",
    "Right, the solution for a tower with just one disk is straightforward: we will move the one disk on the source rod to the destination rod and we are finished. If this is all we have to do, we can program it as follows:\n",
    "\n",
    "```python\n",
    "if n == 1:\n",
    "    print(\"move 1 disk from %s to %s\" % (source, destination))\n",
    "```"
   ]
  },
  {
   "cell_type": "markdown",
   "metadata": {},
   "source": [
    "## 3. Recursive case\n",
    "\n",
    "Now let's try to find a way to describe the towers of Hanoi problem in terms of smaller occurences of the same problem. So the original problem is: \"how can we move n disks from source to destination using auxiliary?\". Any ideas to __divide and conquer__?\n",
    "\n",
    "Actually the solution is really simple. Moving n disks from source to destination using auxiliary can be done in three steps:\n",
    "\n",
    "1. move n-1 disks from source to auxiliary using destination\n",
    "2. move 1 disk from source to destination using auxiliary\n",
    "3. move n-1 disks from auxiliary to destination using source\n",
    "\n",
    "<img src=\"./resources/solution.png\"  style=\"height: 500px\"/>\n",
    "\n",
    "This shouldn't be too hard to program. Can you program the else-case yourself now? When you start the program, the solution should be displayed."
   ]
  },
  {
   "cell_type": "code",
   "execution_count": 4,
   "metadata": {},
   "outputs": [
    {
     "name": "stdout",
     "output_type": "stream",
     "text": [
      "Move disk 1 from A to C\n",
      "Move disk 2 from A to C\n",
      "Move disk 1 from B to A\n",
      "Move disk 3 from A to C\n",
      "Move disk 1 from B to A\n",
      "Move disk 2 from B to A\n",
      "Move disk 1 from C to B\n"
     ]
    }
   ],
   "source": [
    "# The towers of Hanoi\n",
    "\n",
    "def hanoi(n, source, auxiliary, destination):\n",
    "    if n == 1:\n",
    "        print(f\"Move disk 1 from {source} to {destination}\")\n",
    "        return\n",
    "    else:\n",
    "        hanoi(n - 1, source, auxiliary, destination)\n",
    "        print(f\"Move disk {n} from {source} to {destination}\")\n",
    "        hanoi(n - 1, auxiliary, destination, source)\n",
    "\n",
    "\n",
    "hanoi(3, \"A\", \"B\", \"C\")"
   ]
  },
  {
   "cell_type": "markdown",
   "metadata": {},
   "source": [
    "## 4. Towers of Hanoi 2.0\n",
    "\n",
    "It might be a little difficult to see if the solution really works. You can take pencil and paper to simulate the solution, but maybe we can print the content of the different rods and see the disks actually move from one rod to another.\n",
    "\n",
    "First declare a global state variable with the original state: \n",
    "\n",
    "```python\n",
    "state = {\n",
    "  \"A\": [4,3,2,1],\n",
    "  \"B\": [],\n",
    "  \"C\": []\n",
    "}\n",
    "```\n",
    "\n",
    "Then write two functions:\n",
    "\n",
    "1. a function `print_state()` that prints the content of the global state variable\n",
    "2. a function `change_state(source, destination)` that picks the topmost disk from the source array (`pop`-method) and pushes the disk on the destination array (`append`-method)\n",
    "\n",
    "After calling the functions at the right place, the output could be something like this:\n",
    "\n",
    "```\n",
    "A: [4, 3, 2, 1] B: [] C: []\n",
    "A: [4, 3, 2] B: [1] C: []\n",
    "A: [4, 3] B: [1] C: [2]\n",
    "A: [4, 3] B: [] C: [2, 1]\n",
    "A: [4] B: [3] C: [2, 1]\n",
    "A: [4, 1] B: [3] C: [2]\n",
    "A: [4, 1] B: [3, 2] C: []\n",
    "A: [4] B: [3, 2, 1] C: []\n",
    "A: [] B: [3, 2, 1] C: [4]\n",
    "A: [] B: [3, 2] C: [4, 1]\n",
    "A: [2] B: [3] C: [4, 1]\n",
    "A: [2, 1] B: [3] C: [4]\n",
    "A: [2, 1] B: [] C: [4, 3]\n",
    "A: [2] B: [1] C: [4, 3]\n",
    "A: [] B: [1] C: [4, 3, 2]\n",
    "A: [] B: [] C: [4, 3, 2, 1]\n",
    "```\n",
    "\n",
    "Now you can see that the solution actually works. Even with 10 disks if you want!"
   ]
  },
  {
   "cell_type": "code",
   "execution_count": 5,
   "metadata": {},
   "outputs": [
    {
     "name": "stdout",
     "output_type": "stream",
     "text": [
      "A: [4, 3, 2, 1] B: [] C: []\n",
      "A: [4, 3, 2] B: [] C: [1]\n",
      "A: [4, 3] B: [] C: [1, 2]\n"
     ]
    },
    {
     "ename": "IndexError",
     "evalue": "pop from empty list",
     "output_type": "error",
     "traceback": [
      "\u001b[1;31m---------------------------------------------------------------------------\u001b[0m",
      "\u001b[1;31mIndexError\u001b[0m                                Traceback (most recent call last)",
      "Cell \u001b[1;32mIn[5], line 29\u001b[0m\n\u001b[0;32m     22\u001b[0m state \u001b[38;5;241m=\u001b[39m {\n\u001b[0;32m     23\u001b[0m   \u001b[38;5;124m\"\u001b[39m\u001b[38;5;124mA\u001b[39m\u001b[38;5;124m\"\u001b[39m: [\u001b[38;5;241m4\u001b[39m,\u001b[38;5;241m3\u001b[39m,\u001b[38;5;241m2\u001b[39m,\u001b[38;5;241m1\u001b[39m],\n\u001b[0;32m     24\u001b[0m   \u001b[38;5;124m\"\u001b[39m\u001b[38;5;124mB\u001b[39m\u001b[38;5;124m\"\u001b[39m: [],\n\u001b[0;32m     25\u001b[0m   \u001b[38;5;124m\"\u001b[39m\u001b[38;5;124mC\u001b[39m\u001b[38;5;124m\"\u001b[39m: []\n\u001b[0;32m     26\u001b[0m }\n\u001b[0;32m     28\u001b[0m print_state()\n\u001b[1;32m---> 29\u001b[0m \u001b[43mhanoi\u001b[49m\u001b[43m(\u001b[49m\u001b[38;5;28;43mlen\u001b[39;49m\u001b[43m(\u001b[49m\u001b[43mstate\u001b[49m\u001b[43m[\u001b[49m\u001b[38;5;124;43m\"\u001b[39;49m\u001b[38;5;124;43mA\u001b[39;49m\u001b[38;5;124;43m\"\u001b[39;49m\u001b[43m]\u001b[49m\u001b[43m)\u001b[49m\u001b[43m,\u001b[49m\u001b[43m \u001b[49m\u001b[38;5;124;43m\"\u001b[39;49m\u001b[38;5;124;43mA\u001b[39;49m\u001b[38;5;124;43m\"\u001b[39;49m\u001b[43m,\u001b[49m\u001b[43m \u001b[49m\u001b[38;5;124;43m\"\u001b[39;49m\u001b[38;5;124;43mB\u001b[39;49m\u001b[38;5;124;43m\"\u001b[39;49m\u001b[43m,\u001b[49m\u001b[43m \u001b[49m\u001b[38;5;124;43m\"\u001b[39;49m\u001b[38;5;124;43mC\u001b[39;49m\u001b[38;5;124;43m\"\u001b[39;49m\u001b[43m)\u001b[49m\n",
      "Cell \u001b[1;32mIn[5], line 16\u001b[0m, in \u001b[0;36mhanoi\u001b[1;34m(n, source, auxiliary, destination)\u001b[0m\n\u001b[0;32m     14\u001b[0m     \u001b[38;5;28;01mreturn\u001b[39;00m\n\u001b[0;32m     15\u001b[0m \u001b[38;5;28;01melse\u001b[39;00m:\n\u001b[1;32m---> 16\u001b[0m     \u001b[43mhanoi\u001b[49m\u001b[43m(\u001b[49m\u001b[43mn\u001b[49m\u001b[43m \u001b[49m\u001b[38;5;241;43m-\u001b[39;49m\u001b[43m \u001b[49m\u001b[38;5;241;43m1\u001b[39;49m\u001b[43m,\u001b[49m\u001b[43m \u001b[49m\u001b[43msource\u001b[49m\u001b[43m,\u001b[49m\u001b[43m \u001b[49m\u001b[43mauxiliary\u001b[49m\u001b[43m,\u001b[49m\u001b[43m \u001b[49m\u001b[43mdestination\u001b[49m\u001b[43m)\u001b[49m\n\u001b[0;32m     17\u001b[0m     change_state(source, destination)\n\u001b[0;32m     18\u001b[0m     print_state()\n",
      "Cell \u001b[1;32mIn[5], line 16\u001b[0m, in \u001b[0;36mhanoi\u001b[1;34m(n, source, auxiliary, destination)\u001b[0m\n\u001b[0;32m     14\u001b[0m     \u001b[38;5;28;01mreturn\u001b[39;00m\n\u001b[0;32m     15\u001b[0m \u001b[38;5;28;01melse\u001b[39;00m:\n\u001b[1;32m---> 16\u001b[0m     \u001b[43mhanoi\u001b[49m\u001b[43m(\u001b[49m\u001b[43mn\u001b[49m\u001b[43m \u001b[49m\u001b[38;5;241;43m-\u001b[39;49m\u001b[43m \u001b[49m\u001b[38;5;241;43m1\u001b[39;49m\u001b[43m,\u001b[49m\u001b[43m \u001b[49m\u001b[43msource\u001b[49m\u001b[43m,\u001b[49m\u001b[43m \u001b[49m\u001b[43mauxiliary\u001b[49m\u001b[43m,\u001b[49m\u001b[43m \u001b[49m\u001b[43mdestination\u001b[49m\u001b[43m)\u001b[49m\n\u001b[0;32m     17\u001b[0m     change_state(source, destination)\n\u001b[0;32m     18\u001b[0m     print_state()\n",
      "Cell \u001b[1;32mIn[5], line 19\u001b[0m, in \u001b[0;36mhanoi\u001b[1;34m(n, source, auxiliary, destination)\u001b[0m\n\u001b[0;32m     17\u001b[0m change_state(source, destination)\n\u001b[0;32m     18\u001b[0m print_state()\n\u001b[1;32m---> 19\u001b[0m \u001b[43mhanoi\u001b[49m\u001b[43m(\u001b[49m\u001b[43mn\u001b[49m\u001b[43m \u001b[49m\u001b[38;5;241;43m-\u001b[39;49m\u001b[43m \u001b[49m\u001b[38;5;241;43m1\u001b[39;49m\u001b[43m,\u001b[49m\u001b[43m \u001b[49m\u001b[43mauxiliary\u001b[49m\u001b[43m,\u001b[49m\u001b[43m \u001b[49m\u001b[43mdestination\u001b[49m\u001b[43m,\u001b[49m\u001b[43m \u001b[49m\u001b[43msource\u001b[49m\u001b[43m)\u001b[49m\n",
      "Cell \u001b[1;32mIn[5], line 12\u001b[0m, in \u001b[0;36mhanoi\u001b[1;34m(n, source, auxiliary, destination)\u001b[0m\n\u001b[0;32m     10\u001b[0m \u001b[38;5;28;01mdef\u001b[39;00m \u001b[38;5;21mhanoi\u001b[39m(n, source, auxiliary, destination):\n\u001b[0;32m     11\u001b[0m     \u001b[38;5;28;01mif\u001b[39;00m n \u001b[38;5;241m==\u001b[39m \u001b[38;5;241m1\u001b[39m:\n\u001b[1;32m---> 12\u001b[0m         \u001b[43mchange_state\u001b[49m\u001b[43m(\u001b[49m\u001b[43msource\u001b[49m\u001b[43m,\u001b[49m\u001b[43m \u001b[49m\u001b[43mdestination\u001b[49m\u001b[43m)\u001b[49m\n\u001b[0;32m     13\u001b[0m         print_state()\n\u001b[0;32m     14\u001b[0m         \u001b[38;5;28;01mreturn\u001b[39;00m\n",
      "Cell \u001b[1;32mIn[5], line 7\u001b[0m, in \u001b[0;36mchange_state\u001b[1;34m(source, destination)\u001b[0m\n\u001b[0;32m      6\u001b[0m \u001b[38;5;28;01mdef\u001b[39;00m \u001b[38;5;21mchange_state\u001b[39m(source, destination):\n\u001b[1;32m----> 7\u001b[0m     disk \u001b[38;5;241m=\u001b[39m \u001b[43mstate\u001b[49m\u001b[43m[\u001b[49m\u001b[43msource\u001b[49m\u001b[43m]\u001b[49m\u001b[38;5;241;43m.\u001b[39;49m\u001b[43mpop\u001b[49m\u001b[43m(\u001b[49m\u001b[43m)\u001b[49m\n\u001b[0;32m      8\u001b[0m     state[destination]\u001b[38;5;241m.\u001b[39mappend(disk)\n",
      "\u001b[1;31mIndexError\u001b[0m: pop from empty list"
     ]
    }
   ],
   "source": [
    "# The towers of Hanoi 2.0\n",
    "\n",
    "def print_state():\n",
    "    print(f\"A: {state['A']} B: {state['B']} C: {state['C']}\")\n",
    "\n",
    "def change_state(source, destination):\n",
    "    disk = state[source].pop()\n",
    "    state[destination].append(disk)\n",
    "        \n",
    "def hanoi(n, source, auxiliary, destination):\n",
    "    if n == 1:\n",
    "        change_state(source, destination)\n",
    "        print_state()\n",
    "        return\n",
    "    else:\n",
    "        hanoi(n - 1, source, auxiliary, destination)\n",
    "        change_state(source, destination)\n",
    "        print_state()\n",
    "        hanoi(n - 1, auxiliary, destination, source)\n",
    "\n",
    "\n",
    "state = {\n",
    "  \"A\": [4,3,2,1],\n",
    "  \"B\": [],\n",
    "  \"C\": []\n",
    "}\n",
    "\n",
    "print_state()\n",
    "hanoi(len(state[\"A\"]), \"A\", \"B\", \"C\")\n"
   ]
  }
 ],
 "metadata": {
  "kernelspec": {
   "display_name": "Python 3.10.6 64-bit",
   "language": "python",
   "name": "python3"
  },
  "language_info": {
   "codemirror_mode": {
    "name": "ipython",
    "version": 3
   },
   "file_extension": ".py",
   "mimetype": "text/x-python",
   "name": "python",
   "nbconvert_exporter": "python",
   "pygments_lexer": "ipython3",
   "version": "3.11.5"
  },
  "vscode": {
   "interpreter": {
    "hash": "3fc13ab7e79b368e8913ee9489736a3ec6aa6e620b54b7989a5eeb0416c11724"
   }
  }
 },
 "nbformat": 4,
 "nbformat_minor": 2
}
