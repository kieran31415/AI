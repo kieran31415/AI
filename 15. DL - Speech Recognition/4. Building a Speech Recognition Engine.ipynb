{
 "cells": [
  {
   "attachments": {},
   "cell_type": "markdown",
   "metadata": {},
   "source": [
    "# Building a Speech Recognition Engine in Keras\n",
    "\n",
    "In this Notebook we will train a Convolutional Neural Network by feeding it speech signals (actually one word). After training we will try to predict the corresponding text of a .wav-file.\n",
    "\n",
    "The task will be to classify audio between three classes: bed, cat and happy. Download the data.zip file from Canvas: in it, you will find three folders. Extract the folders in a sub-folder `data`. The name of the sub-folders is actually the label of the audio files in it. Each folder contains approximately 1700 audio files. Play some audio files randomly to get an overall idea.\n",
    "\n",
    "<img src=\"./resources/single.png\"  style=\"height: 200px\"/>\n",
    "\n",
    "As you know from the previous Notebook, directly feeding a speech signal to a ConvNet model won't do the job. There are some preprocessing steps you'll need to take. Basically we turn sound waves into numbers so that they can be used as input for a neural network.\n",
    "\n",
    "## 1. Preprocess our sound data\n",
    "\n",
    "In the previous Notebook we talked about the Fourier Transformation to transform our sound wave into a spectrogram. There are actually two ways to calculate such a spectrogram: MFCC (Mel Frequency Cepstral Coefficients) and FFT (Fast Fourier Transformation). The code below will use the first technique to preprocess the .wav-files in our three folders into spectrograms and create our test and training set.\n",
    "\n",
    "First install Librosa, a Python package for music and audio analysis."
   ]
  },
  {
   "cell_type": "code",
   "execution_count": 1,
   "metadata": {},
   "outputs": [
    {
     "name": "stdout",
     "output_type": "stream",
     "text": [
      "Collecting librosaNote: you may need to restart the kernel to use updated packages.\n",
      "\n",
      "  Obtaining dependency information for librosa from https://files.pythonhosted.org/packages/e2/a2/4f639c1168d7aada749a896afb4892a831e2041bebdcf636aebfe9e86556/librosa-0.10.1-py3-none-any.whl.metadata\n",
      "  Downloading librosa-0.10.1-py3-none-any.whl.metadata (8.3 kB)\n",
      "Collecting audioread>=2.1.9 (from librosa)\n",
      "  Obtaining dependency information for audioread>=2.1.9 from https://files.pythonhosted.org/packages/57/8d/30aa32745af16af0a9a650115fbe81bde7c610ed5c21b381fca0196f3a7f/audioread-3.0.1-py3-none-any.whl.metadata\n",
      "  Downloading audioread-3.0.1-py3-none-any.whl.metadata (8.4 kB)\n",
      "Requirement already satisfied: numpy!=1.22.0,!=1.22.1,!=1.22.2,>=1.20.3 in c:\\users\\u0040810\\onedrive - thomas more\\ai project\\2023_2024\\dl_env\\lib\\site-packages (from librosa) (1.26.1)\n",
      "Requirement already satisfied: scipy>=1.2.0 in c:\\users\\u0040810\\onedrive - thomas more\\ai project\\2023_2024\\dl_env\\lib\\site-packages (from librosa) (1.11.3)\n",
      "Requirement already satisfied: scikit-learn>=0.20.0 in c:\\users\\u0040810\\onedrive - thomas more\\ai project\\2023_2024\\dl_env\\lib\\site-packages (from librosa) (1.3.1)\n",
      "Requirement already satisfied: joblib>=0.14 in c:\\users\\u0040810\\onedrive - thomas more\\ai project\\2023_2024\\dl_env\\lib\\site-packages (from librosa) (1.3.2)\n",
      "Requirement already satisfied: decorator>=4.3.0 in c:\\users\\u0040810\\onedrive - thomas more\\ai project\\2023_2024\\dl_env\\lib\\site-packages (from librosa) (5.1.1)\n",
      "Collecting numba>=0.51.0 (from librosa)\n",
      "  Obtaining dependency information for numba>=0.51.0 from https://files.pythonhosted.org/packages/3b/77/fdf609595d4f8f7f7e6e0fcaf11f7223d636cae4cb5c0805f46778c08a57/numba-0.58.1-cp310-cp310-win_amd64.whl.metadata\n",
      "  Downloading numba-0.58.1-cp310-cp310-win_amd64.whl.metadata (2.8 kB)\n",
      "Collecting soundfile>=0.12.1 (from librosa)\n",
      "  Using cached soundfile-0.12.1-py2.py3-none-win_amd64.whl (1.0 MB)\n",
      "Collecting pooch>=1.0 (from librosa)\n",
      "  Downloading pooch-1.7.0-py3-none-any.whl (60 kB)\n",
      "     ---------------------------------------- 0.0/60.9 kB ? eta -:--:--\n",
      "     ---------------------------------------- 60.9/60.9 kB 3.2 MB/s eta 0:00:00\n",
      "Collecting soxr>=0.3.2 (from librosa)\n",
      "  Obtaining dependency information for soxr>=0.3.2 from https://files.pythonhosted.org/packages/3c/e7/89951b917600d02f7389e760696c32b70a80a96301d0a018a70a317e4ecc/soxr-0.3.7-cp310-cp310-win_amd64.whl.metadata\n",
      "  Downloading soxr-0.3.7-cp310-cp310-win_amd64.whl.metadata (5.7 kB)\n",
      "Requirement already satisfied: typing-extensions>=4.1.1 in c:\\users\\u0040810\\onedrive - thomas more\\ai project\\2023_2024\\dl_env\\lib\\site-packages (from librosa) (4.8.0)\n",
      "Collecting lazy-loader>=0.1 (from librosa)\n",
      "  Obtaining dependency information for lazy-loader>=0.1 from https://files.pythonhosted.org/packages/a1/c3/65b3814e155836acacf720e5be3b5757130346670ac454fee29d3eda1381/lazy_loader-0.3-py3-none-any.whl.metadata\n",
      "  Downloading lazy_loader-0.3-py3-none-any.whl.metadata (4.3 kB)\n",
      "Collecting msgpack>=1.0 (from librosa)\n",
      "  Obtaining dependency information for msgpack>=1.0 from https://files.pythonhosted.org/packages/4b/14/c62fbc8dff118f1558e43b9469d56a1f37bbb35febadc3163efaedd01500/msgpack-1.0.7-cp310-cp310-win_amd64.whl.metadata\n",
      "  Downloading msgpack-1.0.7-cp310-cp310-win_amd64.whl.metadata (9.4 kB)\n",
      "Collecting llvmlite<0.42,>=0.41.0dev0 (from numba>=0.51.0->librosa)\n",
      "  Obtaining dependency information for llvmlite<0.42,>=0.41.0dev0 from https://files.pythonhosted.org/packages/1f/05/cfc9c51aff9adbb6f7df93df3fb20100ee5d9c3d0445ade3df8057e50b0a/llvmlite-0.41.1-cp310-cp310-win_amd64.whl.metadata\n",
      "  Downloading llvmlite-0.41.1-cp310-cp310-win_amd64.whl.metadata (4.9 kB)\n",
      "Requirement already satisfied: platformdirs>=2.5.0 in c:\\users\\u0040810\\onedrive - thomas more\\ai project\\2023_2024\\dl_env\\lib\\site-packages (from pooch>=1.0->librosa) (3.11.0)\n",
      "Requirement already satisfied: packaging>=20.0 in c:\\users\\u0040810\\onedrive - thomas more\\ai project\\2023_2024\\dl_env\\lib\\site-packages (from pooch>=1.0->librosa) (23.2)\n",
      "Requirement already satisfied: requests>=2.19.0 in c:\\users\\u0040810\\onedrive - thomas more\\ai project\\2023_2024\\dl_env\\lib\\site-packages (from pooch>=1.0->librosa) (2.31.0)\n",
      "Requirement already satisfied: threadpoolctl>=2.0.0 in c:\\users\\u0040810\\onedrive - thomas more\\ai project\\2023_2024\\dl_env\\lib\\site-packages (from scikit-learn>=0.20.0->librosa) (3.2.0)\n",
      "Collecting cffi>=1.0 (from soundfile>=0.12.1->librosa)\n",
      "  Obtaining dependency information for cffi>=1.0 from https://files.pythonhosted.org/packages/be/3e/0b197d1bfbf386a90786b251dbf2634a15f2ea3d4e4070e99c7d1c7689cf/cffi-1.16.0-cp310-cp310-win_amd64.whl.metadata\n",
      "  Downloading cffi-1.16.0-cp310-cp310-win_amd64.whl.metadata (1.5 kB)\n",
      "Collecting pycparser (from cffi>=1.0->soundfile>=0.12.1->librosa)\n",
      "  Using cached pycparser-2.21-py2.py3-none-any.whl (118 kB)\n",
      "Requirement already satisfied: charset-normalizer<4,>=2 in c:\\users\\u0040810\\onedrive - thomas more\\ai project\\2023_2024\\dl_env\\lib\\site-packages (from requests>=2.19.0->pooch>=1.0->librosa) (3.3.0)\n",
      "Requirement already satisfied: idna<4,>=2.5 in c:\\users\\u0040810\\onedrive - thomas more\\ai project\\2023_2024\\dl_env\\lib\\site-packages (from requests>=2.19.0->pooch>=1.0->librosa) (3.4)\n",
      "Requirement already satisfied: urllib3<3,>=1.21.1 in c:\\users\\u0040810\\onedrive - thomas more\\ai project\\2023_2024\\dl_env\\lib\\site-packages (from requests>=2.19.0->pooch>=1.0->librosa) (2.0.6)\n",
      "Requirement already satisfied: certifi>=2017.4.17 in c:\\users\\u0040810\\onedrive - thomas more\\ai project\\2023_2024\\dl_env\\lib\\site-packages (from requests>=2.19.0->pooch>=1.0->librosa) (2023.7.22)\n",
      "Downloading librosa-0.10.1-py3-none-any.whl (253 kB)\n",
      "   ---------------------------------------- 0.0/253.7 kB ? eta -:--:--\n",
      "   ---------------------------------------- 253.7/253.7 kB 7.9 MB/s eta 0:00:00\n",
      "Downloading audioread-3.0.1-py3-none-any.whl (23 kB)\n",
      "Downloading lazy_loader-0.3-py3-none-any.whl (9.1 kB)\n",
      "Downloading msgpack-1.0.7-cp310-cp310-win_amd64.whl (222 kB)\n",
      "   ---------------------------------------- 0.0/222.8 kB ? eta -:--:--\n",
      "   --------------------------------------- 222.8/222.8 kB 13.3 MB/s eta 0:00:00\n",
      "Downloading numba-0.58.1-cp310-cp310-win_amd64.whl (2.6 MB)\n",
      "   ---------------------------------------- 0.0/2.6 MB ? eta -:--:--\n",
      "   ------------ --------------------------- 0.8/2.6 MB 26.1 MB/s eta 0:00:01\n",
      "   ---------------------- ----------------- 1.4/2.6 MB 18.4 MB/s eta 0:00:01\n",
      "   ----------------------------------- ---- 2.3/2.6 MB 18.3 MB/s eta 0:00:01\n",
      "   ---------------------------------------- 2.6/2.6 MB 16.6 MB/s eta 0:00:00\n",
      "Downloading soxr-0.3.7-cp310-cp310-win_amd64.whl (184 kB)\n",
      "   ---------------------------------------- 0.0/184.6 kB ? eta -:--:--\n",
      "   --------------------------------------- 184.6/184.6 kB 10.9 MB/s eta 0:00:00\n",
      "Downloading cffi-1.16.0-cp310-cp310-win_amd64.whl (181 kB)\n",
      "   ---------------------------------------- 0.0/181.6 kB ? eta -:--:--\n",
      "   ---------------------------------------- 181.6/181.6 kB ? eta 0:00:00\n",
      "Downloading llvmlite-0.41.1-cp310-cp310-win_amd64.whl (28.1 MB)\n",
      "   ---------------------------------------- 0.0/28.1 MB ? eta -:--:--\n",
      "   ---------------------------------------- 0.1/28.1 MB 8.3 MB/s eta 0:00:04\n",
      "   - -------------------------------------- 0.7/28.1 MB 7.7 MB/s eta 0:00:04\n",
      "   - -------------------------------------- 0.9/28.1 MB 9.2 MB/s eta 0:00:03\n",
      "   -- ------------------------------------- 2.1/28.1 MB 12.0 MB/s eta 0:00:03\n",
      "   ---- ----------------------------------- 2.9/28.1 MB 12.2 MB/s eta 0:00:03\n",
      "   ----- ---------------------------------- 3.8/28.1 MB 14.2 MB/s eta 0:00:02\n",
      "   ------ --------------------------------- 4.6/28.1 MB 14.8 MB/s eta 0:00:02\n",
      "   ------- -------------------------------- 5.5/28.1 MB 15.4 MB/s eta 0:00:02\n",
      "   --------- ------------------------------ 6.3/28.1 MB 15.5 MB/s eta 0:00:02\n",
      "   ---------- ----------------------------- 7.3/28.1 MB 16.0 MB/s eta 0:00:02\n",
      "   ----------- ---------------------------- 8.0/28.1 MB 16.0 MB/s eta 0:00:02\n",
      "   ----------- ---------------------------- 8.3/28.1 MB 15.1 MB/s eta 0:00:02\n",
      "   ------------ --------------------------- 9.1/28.1 MB 15.3 MB/s eta 0:00:02\n",
      "   -------------- ------------------------- 9.9/28.1 MB 15.4 MB/s eta 0:00:02\n",
      "   -------------- ------------------------- 10.4/28.1 MB 16.0 MB/s eta 0:00:02\n",
      "   --------------- ------------------------ 11.0/28.1 MB 16.0 MB/s eta 0:00:02\n",
      "   ---------------- ----------------------- 11.9/28.1 MB 16.4 MB/s eta 0:00:01\n",
      "   ------------------ --------------------- 12.8/28.1 MB 16.8 MB/s eta 0:00:01\n",
      "   ------------------- -------------------- 13.6/28.1 MB 16.4 MB/s eta 0:00:01\n",
      "   -------------------- ------------------- 14.2/28.1 MB 16.0 MB/s eta 0:00:01\n",
      "   --------------------- ------------------ 15.0/28.1 MB 16.0 MB/s eta 0:00:01\n",
      "   ---------------------- ----------------- 16.0/28.1 MB 16.0 MB/s eta 0:00:01\n",
      "   ------------------------ --------------- 16.9/28.1 MB 16.4 MB/s eta 0:00:01\n",
      "   ------------------------- -------------- 17.9/28.1 MB 16.4 MB/s eta 0:00:01\n",
      "   -------------------------- ------------- 18.8/28.1 MB 17.7 MB/s eta 0:00:01\n",
      "   ---------------------------- ----------- 19.7/28.1 MB 17.7 MB/s eta 0:00:01\n",
      "   ---------------------------- ----------- 20.4/28.1 MB 17.7 MB/s eta 0:00:01\n",
      "   ----------------------------- ---------- 21.0/28.1 MB 17.7 MB/s eta 0:00:01\n",
      "   ------------------------------ --------- 21.6/28.1 MB 17.7 MB/s eta 0:00:01\n",
      "   -------------------------------- ------- 22.5/28.1 MB 17.7 MB/s eta 0:00:01\n",
      "   --------------------------------- ------ 23.4/28.1 MB 17.7 MB/s eta 0:00:01\n",
      "   ---------------------------------- ----- 24.2/28.1 MB 17.7 MB/s eta 0:00:01\n",
      "   ----------------------------------- ---- 25.1/28.1 MB 18.2 MB/s eta 0:00:01\n",
      "   ------------------------------------ --- 26.0/28.1 MB 17.7 MB/s eta 0:00:01\n",
      "   ------------------------------------- -- 26.6/28.1 MB 17.3 MB/s eta 0:00:01\n",
      "   -------------------------------------- - 27.3/28.1 MB 17.3 MB/s eta 0:00:01\n",
      "   ---------------------------------------  28.1/28.1 MB 16.8 MB/s eta 0:00:01\n",
      "   ---------------------------------------  28.1/28.1 MB 16.8 MB/s eta 0:00:01\n",
      "   ---------------------------------------- 28.1/28.1 MB 14.9 MB/s eta 0:00:00\n",
      "Installing collected packages: soxr, pycparser, msgpack, llvmlite, lazy-loader, audioread, pooch, numba, cffi, soundfile, librosa\n",
      "Successfully installed audioread-3.0.1 cffi-1.16.0 lazy-loader-0.3 librosa-0.10.1 llvmlite-0.41.1 msgpack-1.0.7 numba-0.58.1 pooch-1.7.0 pycparser-2.21 soundfile-0.12.1 soxr-0.3.7\n"
     ]
    },
    {
     "name": "stderr",
     "output_type": "stream",
     "text": [
      "\n",
      "[notice] A new release of pip is available: 23.2.1 -> 23.3.1\n",
      "[notice] To update, run: python.exe -m pip install --upgrade pip\n"
     ]
    }
   ],
   "source": [
    "pip install --upgrade librosa"
   ]
  },
  {
   "attachments": {},
   "cell_type": "markdown",
   "metadata": {},
   "source": [
    "Import the necessary Keras modules and a Python code library with some functions we will use later. By the way, you don't need to know the details of this code library."
   ]
  },
  {
   "cell_type": "code",
   "execution_count": 10,
   "metadata": {},
   "outputs": [],
   "source": [
    "# TensorFlow and tf.keras\n",
    "import tensorflow as tf\n",
    "from tensorflow import keras\n",
    "from tensorflow.keras import optimizers\n",
    "from tensorflow.keras import layers\n",
    "from tensorflow.keras.models import load_model\n",
    "from tensorflow.keras.utils import to_categorical\n",
    "# helper libraries\n",
    "import numpy as np\n",
    "import matplotlib.pyplot as plt"
   ]
  },
  {
   "cell_type": "code",
   "execution_count": 2,
   "metadata": {},
   "outputs": [],
   "source": [
    "import sys\n",
    "sys.path.append('library/preprocess.py')\n",
    "# if this throws an error about the keras.utils to_categorical, go into the preprocess file, and adjust it to: \n",
    "# from tensorflow.keras.utils import to_categorical\n",
    "from library.preprocess import *\n"
   ]
  },
  {
   "attachments": {},
   "cell_type": "markdown",
   "metadata": {},
   "source": [
    "Now run the code below to preprocess our sound data. Since computing MFCC is time consuming, we will do it only once and save the computed values in a .npy file which is named after the name of the label. After running the code you can find those .npy-files in the root folder of this lesson."
   ]
  },
  {
   "cell_type": "code",
   "execution_count": 3,
   "metadata": {},
   "outputs": [
    {
     "name": "stderr",
     "output_type": "stream",
     "text": [
      "Saving vectors of label - 'bed': 100%|██████████| 1711/1711 [00:22<00:00, 77.21it/s]\n",
      "Saving vectors of label - 'cat': 100%|██████████| 1731/1731 [00:18<00:00, 92.29it/s]\n",
      "Saving vectors of label - 'happy': 100%|██████████| 1740/1740 [00:18<00:00, 92.39it/s]\n"
     ]
    }
   ],
   "source": [
    "# second dimension of the feature is dim2\n",
    "feature_dim_2 = 11\n",
    "\n",
    "# save data to array file first\n",
    "save_data_to_array(max_len=feature_dim_2)"
   ]
  },
  {
   "attachments": {},
   "cell_type": "markdown",
   "metadata": {},
   "source": [
    "## 2. Prepare the train and test set\n",
    "\n",
    "We'll take advantage of scikit-learn function `train_test_split` which will automatically split the whole dataset."
   ]
  },
  {
   "cell_type": "code",
   "execution_count": 4,
   "metadata": {},
   "outputs": [],
   "source": [
    "# loading train set and test set\n",
    "X_train, X_test, y_train, y_test = get_train_test()\n",
    "\n",
    "# feature dimension\n",
    "feature_dim_1 = 20\n",
    "channel = 1\n",
    "\n",
    "# reshaping to perform 2D convolution, there is only one channel (normally for images 3: RGB)\n",
    "X_train = X_train.reshape(X_train.shape[0], feature_dim_1, feature_dim_2, channel)\n",
    "X_test = X_test.reshape(X_test.shape[0], feature_dim_1, feature_dim_2, channel)\n",
    "\n",
    "# one hot encoding (already explained in the Computer Vision Lesson, CIFAR-10 )\n",
    "y_train_hot = to_categorical(y_train)\n",
    "y_test_hot = to_categorical(y_test)"
   ]
  },
  {
   "attachments": {},
   "cell_type": "markdown",
   "metadata": {},
   "source": [
    "## 3. Build the model and train it\n",
    "\n",
    "Finally it is time to build our CNN and train it with the train data. The code below has no secrets anymore."
   ]
  },
  {
   "cell_type": "code",
   "execution_count": 8,
   "metadata": {},
   "outputs": [
    {
     "name": "stdout",
     "output_type": "stream",
     "text": [
      "Epoch 1/50\n",
      "32/32 [==============================] - 3s 56ms/step - loss: 1.3472 - accuracy: 0.4339 - val_loss: 0.8487 - val_accuracy: 0.7149\n",
      "Epoch 2/50\n",
      "32/32 [==============================] - 2s 50ms/step - loss: 0.7600 - accuracy: 0.6822 - val_loss: 0.4844 - val_accuracy: 0.8152\n",
      "Epoch 3/50\n",
      "32/32 [==============================] - 2s 49ms/step - loss: 0.5656 - accuracy: 0.7880 - val_loss: 0.3862 - val_accuracy: 0.8558\n",
      "Epoch 4/50\n",
      "32/32 [==============================] - 1s 47ms/step - loss: 0.4177 - accuracy: 0.8504 - val_loss: 0.2949 - val_accuracy: 0.8944\n",
      "Epoch 5/50\n",
      "32/32 [==============================] - 2s 48ms/step - loss: 0.3230 - accuracy: 0.8845 - val_loss: 0.2834 - val_accuracy: 0.8992\n",
      "Epoch 6/50\n",
      "32/32 [==============================] - 2s 47ms/step - loss: 0.2812 - accuracy: 0.9009 - val_loss: 0.2688 - val_accuracy: 0.9001\n",
      "Epoch 7/50\n",
      "32/32 [==============================] - 2s 49ms/step - loss: 0.2612 - accuracy: 0.9122 - val_loss: 0.3050 - val_accuracy: 0.8852\n",
      "Epoch 8/50\n",
      "32/32 [==============================] - 2s 50ms/step - loss: 0.2504 - accuracy: 0.9161 - val_loss: 0.2268 - val_accuracy: 0.9170\n",
      "Epoch 9/50\n",
      "32/32 [==============================] - 2s 47ms/step - loss: 0.2045 - accuracy: 0.9312 - val_loss: 0.1972 - val_accuracy: 0.9286\n",
      "Epoch 10/50\n",
      "32/32 [==============================] - 1s 47ms/step - loss: 0.1531 - accuracy: 0.9518 - val_loss: 0.2117 - val_accuracy: 0.9257\n",
      "Epoch 11/50\n",
      "32/32 [==============================] - 1s 46ms/step - loss: 0.1217 - accuracy: 0.9588 - val_loss: 0.2043 - val_accuracy: 0.9344\n",
      "Epoch 12/50\n",
      "32/32 [==============================] - 1s 46ms/step - loss: 0.1020 - accuracy: 0.9630 - val_loss: 0.2014 - val_accuracy: 0.9349\n",
      "Epoch 13/50\n",
      "32/32 [==============================] - 1s 47ms/step - loss: 0.0981 - accuracy: 0.9630 - val_loss: 0.1933 - val_accuracy: 0.9354\n",
      "Epoch 14/50\n",
      "32/32 [==============================] - 1s 46ms/step - loss: 0.0850 - accuracy: 0.9720 - val_loss: 0.2061 - val_accuracy: 0.9358\n",
      "Epoch 15/50\n",
      "32/32 [==============================] - 2s 47ms/step - loss: 0.0673 - accuracy: 0.9762 - val_loss: 0.1990 - val_accuracy: 0.9440\n",
      "Epoch 16/50\n",
      "32/32 [==============================] - 1s 47ms/step - loss: 0.0517 - accuracy: 0.9797 - val_loss: 0.2033 - val_accuracy: 0.9421\n",
      "Epoch 17/50\n",
      "32/32 [==============================] - 1s 47ms/step - loss: 0.0481 - accuracy: 0.9826 - val_loss: 0.2073 - val_accuracy: 0.9407\n",
      "Epoch 18/50\n",
      "32/32 [==============================] - 1s 46ms/step - loss: 0.0517 - accuracy: 0.9833 - val_loss: 0.2251 - val_accuracy: 0.9383\n",
      "Epoch 19/50\n",
      "32/32 [==============================] - 2s 48ms/step - loss: 0.0656 - accuracy: 0.9768 - val_loss: 0.2223 - val_accuracy: 0.9392\n",
      "Epoch 20/50\n",
      "32/32 [==============================] - 1s 46ms/step - loss: 0.0485 - accuracy: 0.9830 - val_loss: 0.2144 - val_accuracy: 0.9411\n",
      "Epoch 21/50\n",
      "32/32 [==============================] - 1s 46ms/step - loss: 0.0425 - accuracy: 0.9865 - val_loss: 0.2224 - val_accuracy: 0.9460\n",
      "Epoch 22/50\n",
      "32/32 [==============================] - 1s 47ms/step - loss: 0.0429 - accuracy: 0.9871 - val_loss: 0.2183 - val_accuracy: 0.9411\n",
      "Epoch 23/50\n",
      "32/32 [==============================] - 1s 46ms/step - loss: 0.0382 - accuracy: 0.9904 - val_loss: 0.2253 - val_accuracy: 0.9445\n",
      "Epoch 24/50\n",
      "32/32 [==============================] - 1s 46ms/step - loss: 0.0404 - accuracy: 0.9862 - val_loss: 0.2375 - val_accuracy: 0.9368\n",
      "Epoch 25/50\n",
      "32/32 [==============================] - 1s 46ms/step - loss: 0.0384 - accuracy: 0.9875 - val_loss: 0.2227 - val_accuracy: 0.9397\n",
      "Epoch 26/50\n",
      "32/32 [==============================] - 1s 46ms/step - loss: 0.0466 - accuracy: 0.9875 - val_loss: 0.2488 - val_accuracy: 0.9363\n",
      "Epoch 27/50\n",
      "32/32 [==============================] - 1s 46ms/step - loss: 0.0663 - accuracy: 0.9765 - val_loss: 0.2388 - val_accuracy: 0.9339\n",
      "Epoch 28/50\n",
      "32/32 [==============================] - 1s 46ms/step - loss: 0.0704 - accuracy: 0.9788 - val_loss: 0.2107 - val_accuracy: 0.9416\n",
      "Epoch 29/50\n",
      "32/32 [==============================] - 1s 46ms/step - loss: 0.0334 - accuracy: 0.9897 - val_loss: 0.2497 - val_accuracy: 0.9426\n",
      "Epoch 30/50\n",
      "32/32 [==============================] - 1s 46ms/step - loss: 0.0423 - accuracy: 0.9842 - val_loss: 0.2687 - val_accuracy: 0.9373\n",
      "Epoch 31/50\n",
      "32/32 [==============================] - 1s 46ms/step - loss: 0.0323 - accuracy: 0.9907 - val_loss: 0.2807 - val_accuracy: 0.9416\n",
      "Epoch 32/50\n",
      "32/32 [==============================] - 1s 46ms/step - loss: 0.0295 - accuracy: 0.9894 - val_loss: 0.2493 - val_accuracy: 0.9479\n",
      "Epoch 33/50\n",
      "32/32 [==============================] - 2s 47ms/step - loss: 0.0271 - accuracy: 0.9920 - val_loss: 0.2546 - val_accuracy: 0.9431\n",
      "Epoch 34/50\n",
      "32/32 [==============================] - 1s 46ms/step - loss: 0.0202 - accuracy: 0.9920 - val_loss: 0.2895 - val_accuracy: 0.9479\n",
      "Epoch 35/50\n",
      "32/32 [==============================] - 1s 46ms/step - loss: 0.0290 - accuracy: 0.9916 - val_loss: 0.2365 - val_accuracy: 0.9431\n",
      "Epoch 36/50\n",
      "32/32 [==============================] - 1s 46ms/step - loss: 0.0229 - accuracy: 0.9949 - val_loss: 0.3305 - val_accuracy: 0.9301\n",
      "Epoch 37/50\n",
      "32/32 [==============================] - 1s 46ms/step - loss: 0.0303 - accuracy: 0.9875 - val_loss: 0.2595 - val_accuracy: 0.9450\n",
      "Epoch 38/50\n",
      "32/32 [==============================] - 1s 47ms/step - loss: 0.0550 - accuracy: 0.9826 - val_loss: 0.2518 - val_accuracy: 0.9363\n",
      "Epoch 39/50\n",
      "32/32 [==============================] - 1s 46ms/step - loss: 0.0324 - accuracy: 0.9900 - val_loss: 0.2576 - val_accuracy: 0.9402\n",
      "Epoch 40/50\n",
      "32/32 [==============================] - 1s 46ms/step - loss: 0.0239 - accuracy: 0.9949 - val_loss: 0.2509 - val_accuracy: 0.9431\n",
      "Epoch 41/50\n",
      "32/32 [==============================] - 1s 47ms/step - loss: 0.0252 - accuracy: 0.9929 - val_loss: 0.2717 - val_accuracy: 0.9407\n",
      "Epoch 42/50\n",
      "32/32 [==============================] - 1s 46ms/step - loss: 0.0144 - accuracy: 0.9958 - val_loss: 0.2575 - val_accuracy: 0.9465\n",
      "Epoch 43/50\n",
      "32/32 [==============================] - 2s 47ms/step - loss: 0.0087 - accuracy: 0.9977 - val_loss: 0.2634 - val_accuracy: 0.9450\n",
      "Epoch 44/50\n",
      "32/32 [==============================] - 2s 47ms/step - loss: 0.0075 - accuracy: 0.9977 - val_loss: 0.2907 - val_accuracy: 0.9436\n",
      "Epoch 45/50\n",
      "32/32 [==============================] - 1s 46ms/step - loss: 0.0237 - accuracy: 0.9949 - val_loss: 0.2680 - val_accuracy: 0.9450\n",
      "Epoch 46/50\n",
      "32/32 [==============================] - 1s 46ms/step - loss: 0.0179 - accuracy: 0.9929 - val_loss: 0.2407 - val_accuracy: 0.9455\n",
      "Epoch 47/50\n",
      "32/32 [==============================] - 1s 46ms/step - loss: 0.0162 - accuracy: 0.9949 - val_loss: 0.2451 - val_accuracy: 0.9498\n",
      "Epoch 48/50\n",
      "32/32 [==============================] - 1s 46ms/step - loss: 0.0101 - accuracy: 0.9955 - val_loss: 0.2914 - val_accuracy: 0.9479\n",
      "Epoch 49/50\n",
      "32/32 [==============================] - 1s 46ms/step - loss: 0.0209 - accuracy: 0.9936 - val_loss: 0.3021 - val_accuracy: 0.9455\n",
      "Epoch 50/50\n",
      "32/32 [==============================] - 1s 46ms/step - loss: 0.0348 - accuracy: 0.9897 - val_loss: 0.2521 - val_accuracy: 0.9469\n"
     ]
    }
   ],
   "source": [
    "epochs = 50\n",
    "batch_size = 100\n",
    "verbose = 1\n",
    "\n",
    "class_names =  ['bed', 'cat', 'happy']\n",
    "num_classes = len(class_names)\n",
    "\n",
    "\n",
    "model = keras.Sequential([\n",
    "    layers.Conv2D(32, kernel_size=(2, 2), activation='relu', input_shape=(feature_dim_1, feature_dim_2, channel)),\n",
    "    layers.Conv2D(48, kernel_size=(2, 2), activation='relu'),\n",
    "    layers.Conv2D(120, kernel_size=(2, 2), activation='relu'),\n",
    "    layers.MaxPooling2D(pool_size=(2, 2)),\n",
    "    layers.Dropout(0.25),\n",
    "    layers.Flatten(),\n",
    "    # Hidden layer: Add a Dense layer, aka a fully or densely connected layer of 128 neurons, and let them use the 'ReLu'-squishing or activation function\n",
    "    layers.Dense(128, activation='relu'),\n",
    "    layers.Dropout(0.25),\n",
    "    layers.Dense(64, activation='relu'),\n",
    "    layers.Dropout(0.4),\n",
    "    # Output layer: Add a Dense layer of 10 neurons (because we have 10 possible output labels), and link those neurons together in a group, via the 'softmax'-activation function\n",
    "    layers.Dense(num_classes, activation='softmax')\n",
    "])\n",
    "\n",
    "\n",
    "model.compile(loss='categorical_crossentropy',\n",
    "                  optimizer=optimizers.Adam(learning_rate=0.001),\n",
    "                  metrics=['accuracy'])\n",
    "    \n",
    "history = model.fit(X_train, y_train_hot, batch_size=batch_size, epochs=epochs, verbose=verbose, validation_data=(X_test, y_test_hot))"
   ]
  },
  {
   "cell_type": "code",
   "execution_count": 11,
   "metadata": {},
   "outputs": [
    {
     "data": {
      "image/png": "[encoded data removed]",
      "text/plain": [
       "<Figure size 1000x500 with 2 Axes>"
      ]
     },
     "metadata": {},
     "output_type": "display_data"
    }
   ],
   "source": [
    "# Create a figure and a grid of subplots with a single call\n",
    "fig, (ax1, ax2) = plt.subplots(1, 2, figsize=(10,5))\n",
    "\n",
    "# Plot the loss curves on the first subplot\n",
    "ax1.plot(history.history['loss'], label='training loss')\n",
    "ax1.plot(history.history['val_loss'], label='validation loss')\n",
    "ax1.set_title('Loss curves')\n",
    "ax1.set_xlabel('Epoch')\n",
    "ax1.set_ylabel('Loss')\n",
    "ax1.legend()\n",
    "\n",
    "# Plot the accuracy curves on the second subplot\n",
    "ax2.plot(history.history['accuracy'], label='training accuracy')\n",
    "ax2.plot(history.history['val_accuracy'], label='validation accuracy')\n",
    "ax2.set_title('Accuracy curves')\n",
    "ax2.set_xlabel('Epoch')\n",
    "ax2.set_ylabel('Accuracy')\n",
    "ax2.legend()\n",
    "\n",
    "# Adjust the spacing between subplots\n",
    "fig.tight_layout()\n",
    "\n",
    "# Show the figure\n",
    "plt.show()"
   ]
  },
  {
   "attachments": {},
   "cell_type": "markdown",
   "metadata": {},
   "source": [
    "## 4. Predict\n",
    "\n",
    "In the folder `data_test` you will find some .wav-files to test your model with. Since we achieved a pretty high accuracy, all these files should predict the correct corresponding text. Maybe you can try if this is still the case if you pronounce the words yourself?"
   ]
  },
  {
   "cell_type": "code",
   "execution_count": 12,
   "metadata": {},
   "outputs": [
    {
     "name": "stdout",
     "output_type": "stream",
     "text": [
      "1/1 [==============================] - 0s 110ms/step\n",
      "bed\n"
     ]
    }
   ],
   "source": [
    "sample = wav2mfcc('./data_test/bed_0.wav')\n",
    "sample_reshaped = sample.reshape(1, feature_dim_1, feature_dim_2, channel)\n",
    "\n",
    "predicted_index = np.argmax(model.predict(sample_reshaped))\n",
    "\n",
    "print(class_names[predicted_index])"
   ]
  },
  {
   "attachments": {},
   "cell_type": "markdown",
   "metadata": {},
   "source": [
    "## 5. Exercise\n",
    "\n",
    "In the `data_fruit` folder you will find another dataset for Speech Recognition. Use this dataset as input and build and train a model. Can you achieve a high accuracy? Try to predict your own words."
   ]
  }
 ],
 "metadata": {
  "kernelspec": {
   "display_name": "Python 3.10.6 ('DL_env': venv)",
   "language": "python",
   "name": "python3"
  },
  "language_info": {
   "codemirror_mode": {
    "name": "ipython",
    "version": 3
   },
   "file_extension": ".py",
   "mimetype": "text/x-python",
   "name": "python",
   "nbconvert_exporter": "python",
   "pygments_lexer": "ipython3",
   "version": "3.10.6"
  },
  "vscode": {
   "interpreter": {
    "hash": "775b7576bf7a34da706ed620d7f0d2338b0743a1fe22363e0994f105195362b0"
   }
  }
 },
 "nbformat": 4,
 "nbformat_minor": 2
}
