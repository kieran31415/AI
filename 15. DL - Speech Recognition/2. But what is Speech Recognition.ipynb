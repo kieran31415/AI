{
 "cells": [
  {
   "cell_type": "markdown",
   "metadata": {},
   "source": [
    "# But what is Speech Recognition?\n",
    "\n",
    "Speech Recognition which is also known as Automatic Speech Recognition (ASR) and Voice Recognition recognizes the spoken words and phrases and converts them to a machine-readable format. By converting spoken audio into text, speech recognition technologies let users control digital devices by speaking instead of using conventional tools such as keystrokes, buttons, keyboards etc.\n",
    "\n",
    "And now Speech Recognition is invading our lives. It’s built into our phones, our game consoles and our smart watches. It’s even automating our homes. For just $50, you can get an Amazon Echo Dot — a magic box that allows you to order pizza, get a weather report or even buy trash bags — just by speaking out loud.\n",
    "\n",
    "Watch the video below (from 0:00 till 3:55) to know more about Speech Recognition As Fast As Possible.\n",
    "\n",
    "<a href=\"https://www.youtube.com/embed/AWWjN1QqoYY?end=235\"><img src=\"resources/video1.png\" width=\"400\"></a>"
   ]
  },
  {
   "cell_type": "markdown",
   "metadata": {},
   "source": [
    "Although not really explained in the videos above, let's have a look at some top uses and difficulties of Speech Recognition.\n",
    "\n",
    "## 1. Top Uses of Speech Recognition Technology\n",
    "\n",
    "- __Call centers__: Speech Recognition technology is indispensable for many organizations who aim to provide a high-quality self-service since the telephone is still the most popular device used to contact organizations. The technology lets users complete their transactions without dealing with bulky touchtone menu mazes.\n",
    "\n",
    "\n",
    "- __Dictation solutions__: One of the most common uses of Speech Recognition technology includes speech-dictation solutions. These solutions include speech to text technology which lets users control devices by voice commands and dictate their expressions without typing.\n",
    "\n",
    "\n",
    "- __Applications for the disabled__: Speech Recognition is one of the most helpful technologies for the disabled. When it is not possible or convenient to use a keyboard or a similar tool the technology allows users not only to dictate their expressions but also to control devices.\n",
    "\n",
    "\n",
    "- __Mobile__: Since mobile devices are found everywhere today, the use of Speech Recognition as a mobile technology is raising. From mobile banking applications to virtual assistants, Speech Recognition enables users to control devices and complete several transactions easily by speaking.\n",
    "\n",
    "## 2. Why is it hard for machines to do Speech Recognition?\n",
    "\n",
    "Why is Speech Recognition so hard? We do it, almost effortlessly. Speech Recognition is hard because listening is harder and more complicated than we naively think. Let’s look at what we do and what a machine would need to do:\n",
    "\n",
    "- __Noise__: When someone speaks to us, let’s say in a restaurant, then we have to separate their words (this is called the signal) from all the background noise — note that the noise can vary — phone calls, room acoustics, other people’s conversations, traffic (if the window is open), etc. (A machine would have to separate speech from noise).\n",
    "\n",
    "\n",
    "- __No endpoints__: Sometimes people speak too fast (or too slow) — they don’t stop or slow down at the end of a sentence before they start a new one. The sentences sound like a continuous long stream of words (it’s hard to “hear” the sentence structure from sound alone) and it’s unclear when one word ends and another begins. \n",
    "\n",
    "\n",
    "- __Everyone sounds different__: Age, gender, accent, style, personality, context, intent, etc. — all influence voice and speech.\n",
    "\n",
    "\n",
    "- __Identical words__: There are many words that sound similar or identical (like “to”, “too”, “two”) but mean very different things (they are homophones). We need to know which word (and meaning) the speaker intends.\n",
    "\n",
    "\n",
    "- __Fillers__: There are many fillers we use in speech, such as “um”, “err”, “hmm”, etc., and we instinctively know how to filter them.\n",
    "\n",
    "\n",
    "## 3. Diverse Sources of Knowledge for Spoken Language Communication\n",
    "\n",
    "Just to give you an idea, here are some examples of how difficult it is for a computer to recognize speech and as a result errors can be made.\n",
    "\n",
    "Acoustic-Phonetic:\n",
    "- Let us pray.\n",
    "- Lettuce spray.\n",
    "\n",
    "Syntactic: \n",
    "- Meet her at the end of Main Street.\n",
    "- Meter at the end of Main Street.\n",
    "\n",
    "Semantic: \n",
    "- Is the baby crying?\n",
    "- Is the bay bee crying?\n",
    "\n",
    "Discourse Context: \n",
    "- It is easy to recognize speech.\n",
    "- It is easy to wreck a nice beach."
   ]
  }
 ],
 "metadata": {
  "kernelspec": {
   "display_name": "Python 3.10.6 ('DL_env': venv)",
   "language": "python",
   "name": "python3"
  },
  "language_info": {
   "codemirror_mode": {
    "name": "ipython",
    "version": 3
   },
   "file_extension": ".py",
   "mimetype": "text/x-python",
   "name": "python",
   "nbconvert_exporter": "python",
   "pygments_lexer": "ipython3",
   "version": "3.10.6"
  },
  "vscode": {
   "interpreter": {
    "hash": "775b7576bf7a34da706ed620d7f0d2338b0743a1fe22363e0994f105195362b0"
   }
  }
 },
 "nbformat": 4,
 "nbformat_minor": 2
}
