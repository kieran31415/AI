{
 "cells": [
  {
   "cell_type": "markdown",
   "metadata": {},
   "source": [
    "# Speech Recognition\n",
    "\n",
    "Speech is the most natural form of communication for us — it’s second nature to us. And now, our machines have started to recognize our speech and they’re getting better and better at communicating with us.\n",
    "\n",
    "Current voice assistants and devices like Amazon Alexa and Google Home are getting more and more popular each month — they are changing how we shop, search and interact with our devices.\n",
    "\n",
    "In this last lesson of our AI course we will try to explain some basic principles of Speech Recognition. At the end we will use a Speech Recognition API to program a \"Guess the Word\" game.\n",
    "\n",
    "## Guess the Word\n",
    "\n",
    "Our game will be really simple. We will write a program that picks a random word from a list and gives the user three attempts to guess the word. We will use the microphone of your laptop to give the user the ability to speak the word and use Speech Recognition to figure out if the word the user has spoken is correct.\n",
    "\n",
    "<img src=\"./resources/speechrecognition.png\"  style=\"height: 250px\"/>"
   ]
  }
 ],
 "metadata": {
  "kernelspec": {
   "display_name": "Python 3.10.6 ('DL_env': venv)",
   "language": "python",
   "name": "python3"
  },
  "language_info": {
   "codemirror_mode": {
    "name": "ipython",
    "version": 3
   },
   "file_extension": ".py",
   "mimetype": "text/x-python",
   "name": "python",
   "nbconvert_exporter": "python",
   "pygments_lexer": "ipython3",
   "version": "3.10.6"
  },
  "vscode": {
   "interpreter": {
    "hash": "775b7576bf7a34da706ed620d7f0d2338b0743a1fe22363e0994f105195362b0"
   }
  }
 },
 "nbformat": 4,
 "nbformat_minor": 2
}
