{
 "cells": [
  {
   "cell_type": "markdown",
   "metadata": {},
   "source": [
    "# Playing Games Perfectly\n",
    "\n",
    "Minimax is a decision rule that is used in Artificial Intelligence, Decision Theory, Game Theory, ... \n",
    "\n",
    "The YouTube movie below will explain the basic principles of Minimax using a very simple game as example. Start watching the video (from 0:00 till 6:15).\n",
    "\n",
    "__Important:__ Stop the video at 2:20 for a while and try to figure out yourself at what final node the players will land if they play perfectly.\n",
    "\n",
    "<a href=\"https://www.youtube.com/embed/EI6vb82I9-o?start=0&end=375\"><img src=\"resources/video1.png\" width=\"400\"></a>"
   ]
  },
  {
   "cell_type": "markdown",
   "metadata": {},
   "source": [
    "## 1. Perfect play\n",
    "\n",
    "What will be the value of the final node if both players play perfectly? __Remember__: _A_ wants to land at the highest value, _B_ at the lowest.\n",
    "\n",
    "<img src=\"./resources/gametree1.png\"  style=\"height: 315px\"/>"
   ]
  },
  {
   "cell_type": "code",
   "execution_count": 1,
   "metadata": {},
   "outputs": [],
   "source": [
    "# result? "
   ]
  },
  {
   "cell_type": "markdown",
   "metadata": {},
   "source": [
    "## 2. The perfect path\n",
    "\n",
    "What will be the final result if _player A_ by mistake takes the right path the first time he has to choose? Can _player B_ force _player A_ to land at a lower number (since _player A_ did not follow the optimal path)?\n",
    "\n",
    "<img src=\"./resources/gametree2.png\"  style=\"height: 315px\"/>"
   ]
  },
  {
   "cell_type": "code",
   "execution_count": 2,
   "metadata": {},
   "outputs": [],
   "source": [
    "# result? "
   ]
  },
  {
   "cell_type": "markdown",
   "metadata": {},
   "source": [
    "## 3. Play it yourself\n",
    "\n",
    "Now play the game below with your neighbour. First play it intuitively without drawing the best path.\n",
    "\n",
    "Now check what would be the final result if both players played perfectly. Who played the best?\n",
    "\n",
    "<img src=\"./resources/gametree3.png\"  style=\"height: 315px\"/>"
   ]
  },
  {
   "cell_type": "code",
   "execution_count": 3,
   "metadata": {},
   "outputs": [],
   "source": [
    "# result ?"
   ]
  }
 ],
 "metadata": {
  "kernelspec": {
   "display_name": "Python 3",
   "language": "python",
   "name": "python3"
  },
  "language_info": {
   "codemirror_mode": {
    "name": "ipython",
    "version": 3
   },
   "file_extension": ".py",
   "mimetype": "text/x-python",
   "name": "python",
   "nbconvert_exporter": "python",
   "pygments_lexer": "ipython3",
   "version": "3.8.8"
  },
  "vscode": {
   "interpreter": {
    "hash": "ee412e95a0a5fcd4bc718149b06e63b52799b36d97dd83a114f114becc1d8225"
   }
  }
 },
 "nbformat": 4,
 "nbformat_minor": 2
}
