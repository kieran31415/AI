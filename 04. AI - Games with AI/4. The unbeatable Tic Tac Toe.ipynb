{
 "cells": [
  {
   "cell_type": "markdown",
   "metadata": {},
   "source": [
    "# The Unbeatable Tic Tac Toe\n",
    "\n",
    "Now that we understand the Minimax algoritm, we are going to use Minimax to program the unbeatbale Tic Tac Toe. We could do that ourselves (using our knowledge of recursion and Minimax), but since this would be a little difficult, we will use a library called *easyAI*. It is an artificial intelligence framework and it provides all the functionality necessary to build two-player games. \n",
    "\n",
    "Don't worry, the Tic Tac Toe program below won't be an exam question, but have a brief look at the code and after that try to beat the AI."
   ]
  },
  {
   "cell_type": "markdown",
   "metadata": {},
   "source": [
    "## 1. Installation\n",
    "\n",
    "First install the library using following command:"
   ]
  },
  {
   "cell_type": "code",
   "execution_count": 1,
   "metadata": {},
   "outputs": [
    {
     "name": "stdout",
     "output_type": "stream",
     "text": [
      "Collecting easyAI\n",
      "  Using cached easyAI-2.0.12-py3-none-any.whl (42 kB)\n",
      "Collecting numpy\n",
      "  Downloading numpy-1.26.0-cp310-cp310-win_amd64.whl (15.8 MB)\n",
      "     --------------------------------------- 15.8/15.8 MB 11.5 MB/s eta 0:00:00\n",
      "Installing collected packages: numpy, easyAI\n",
      "Successfully installed easyAI-2.0.12 numpy-1.26.0\n"
     ]
    },
    {
     "name": "stderr",
     "output_type": "stream",
     "text": [
      "\n",
      "[notice] A new release of pip available: 22.2.1 -> 23.2.1\n",
      "[notice] To update, run: python.exe -m pip install --upgrade pip\n"
     ]
    }
   ],
   "source": [
    "!pip install easyAI\n",
    "\n",
    "# In Jupyter Notebook you can execute Terminal commands in the notebook cells by prepending an exclamation \n",
    "# point/bang(!) to the beginning of the command. This can be useful for many things such as getting \n",
    "# information without having to open a Terminal/Command Prompt, or installing a conda package you are \n",
    "# trying to use.\n"
   ]
  },
  {
   "cell_type": "markdown",
   "metadata": {},
   "source": [
    "## 2. Import packages\n",
    "\n",
    "Import the following packages (note: we are using *Negamax* a variant of *Minimax*):"
   ]
  },
  {
   "cell_type": "code",
   "execution_count": 2,
   "metadata": {},
   "outputs": [],
   "source": [
    "from easyAI import TwoPlayerGame, Human_Player, AI_Player, Negamax"
   ]
  },
  {
   "cell_type": "markdown",
   "metadata": {},
   "source": [
    "## 3. Define the game class\n",
    "\n",
    "First have a look at some Python code snippets we are going to use right a way:"
   ]
  },
  {
   "cell_type": "code",
   "execution_count": 3,
   "metadata": {},
   "outputs": [
    {
     "name": "stdout",
     "output_type": "stream",
     "text": [
      "[0, 0, 0, 0, 0, 0, 0, 0, 0]\n"
     ]
    }
   ],
   "source": [
    "# helper: python code to create an array with 9 zeros\n",
    "print ([0] * 9)"
   ]
  },
  {
   "cell_type": "code",
   "execution_count": 4,
   "metadata": {},
   "outputs": [
    {
     "name": "stdout",
     "output_type": "stream",
     "text": [
      "[1, 2, 5, 8]\n"
     ]
    }
   ],
   "source": [
    "# helper: python code to print all indices (starting with 1) of zero values in an array\n",
    "print ([i+1 for i,b in enumerate([0, 0, 1, 2, 0, 2, 1, 0, 2]) if b==0])"
   ]
  },
  {
   "cell_type": "markdown",
   "metadata": {},
   "source": [
    "Define a class that contains all the methods to play the game."
   ]
  },
  {
   "cell_type": "code",
   "execution_count": 5,
   "metadata": {},
   "outputs": [],
   "source": [
    "class TicTacToe( TwoPlayerGame ):\n",
    "    \"\"\" The board positions are numbered as follows:\n",
    "            1 2 3\n",
    "            4 5 6\n",
    "            7 8 9\n",
    "    \"\"\"    \n",
    "\n",
    "    # this is the constructor\n",
    "    def __init__(self, players): # Human player? AI player? 2 Humans?\n",
    "        # start by defining the players and the player (1) who starts the game\n",
    "        self.players = players\n",
    "        self.current_player = 1 # player 1 starts\n",
    "        # define the board\n",
    "        self.board = [0] * 9\n",
    "     \n",
    "    # this method returns an array with all the possible moves (indices of the zero values on the board)\n",
    "    # which positions are still 'open'\n",
    "    def possible_moves(self):\n",
    "        return [i+1 for i,b in enumerate(self.board) if b==0]\n",
    "    \n",
    "    # this method updates the board after making a move (place 1 or 2 at the right place (= move - 1) in the board array)\n",
    "    def make_move(self, move):\n",
    "        self.board[int(move)-1] = self.current_player\n",
    "\n",
    "    # this method undoes the move, optional method (speeds up the AI - backtracking)\n",
    "    def unmake_move(self, move): \n",
    "        self.board[int(move)-1] = 0\n",
    "    \n",
    "    # method to see if somebody has lost the game, checking if somebody has three in a row\n",
    "    def lose(self):\n",
    "        # does the opponent have three in line ?\n",
    "        return any( [all([(self.board[c-1]== self.opponent_index)\n",
    "                      for c in line])\n",
    "                      for line in [[1,2,3],[4,5,6],[7,8,9], # horiz.\n",
    "                                   [1,4,7],[2,5,8],[3,6,9], # vertical\n",
    "                                   [1,5,9],[3,5,7]]]) # diagonal\n",
    "     \n",
    "    # check if the game is over (no possible moves or somebody has lost)\n",
    "    def is_over(self):\n",
    "        return (self.possible_moves() == []) or self.lose()\n",
    "\n",
    "    # compute the score for minimax\n",
    "    def scoring(self):\n",
    "        return -100 if self.lose() else 0\n",
    "    \n",
    "    # this method shows the current board state\n",
    "    def show(self):\n",
    "        print ('\\n'+'\\n'.join([\n",
    "                        ' '.join([['.','O','X'][self.board[3*j+i]]\n",
    "                        for i in range(3)])\n",
    "                 for j in range(3)]) )"
   ]
  },
  {
   "cell_type": "markdown",
   "metadata": {},
   "source": [
    "## 4. Play the game\n",
    "\n",
    "We will use Negamax (a variant of Minimax) as the AI algorithm for this game. We can specify the number of steps in advance that the algorithm should think. In this case, let's choose 6. Now you can play the game and try to beat the AI. Probably it will result in a draw."
   ]
  },
  {
   "cell_type": "code",
   "execution_count": 6,
   "metadata": {},
   "outputs": [],
   "source": [
    "ai = Negamax(6)\n",
    "game = TicTacToe( [ Human_Player(), AI_Player(ai) ] )"
   ]
  },
  {
   "cell_type": "code",
   "execution_count": 7,
   "metadata": {},
   "outputs": [
    {
     "name": "stdout",
     "output_type": "stream",
     "text": [
      "\n",
      ". . .\n",
      ". . .\n",
      ". . .\n",
      "\n",
      "Move #1: player 1 plays 1 :\n",
      "\n",
      "O . .\n",
      ". . .\n",
      ". . .\n",
      "\n",
      "Move #2: player 2 plays 5 :\n",
      "\n",
      "O . .\n",
      ". X .\n",
      ". . .\n",
      "\n",
      "Move #3: player 1 plays 2 :\n",
      "\n",
      "O O .\n",
      ". X .\n",
      ". . .\n",
      "\n",
      "Move #4: player 2 plays 3 :\n",
      "\n",
      "O O X\n",
      ". X .\n",
      ". . .\n",
      "\n",
      "Move #5: player 1 plays 7 :\n",
      "\n",
      "O O X\n",
      ". X .\n",
      "O . .\n",
      "\n",
      "Move #6: player 2 plays 4 :\n",
      "\n",
      "O O X\n",
      "X X .\n",
      "O . .\n",
      "\n",
      "Move #7: player 1 plays 6 :\n",
      "\n",
      "O O X\n",
      "X X O\n",
      "O . .\n",
      "\n",
      "Move #8: player 2 plays 8 :\n",
      "\n",
      "O O X\n",
      "X X O\n",
      "O X .\n",
      "\n",
      "Move #9: player 1 plays 9 :\n",
      "\n",
      "O O X\n",
      "X X O\n",
      "O X O\n"
     ]
    }
   ],
   "source": [
    "history = game.play()"
   ]
  }
 ],
 "metadata": {
  "kernelspec": {
   "display_name": "Python 3.10.6 ('AI_env': venv)",
   "language": "python",
   "name": "python3"
  },
  "language_info": {
   "codemirror_mode": {
    "name": "ipython",
    "version": 3
   },
   "file_extension": ".py",
   "mimetype": "text/x-python",
   "name": "python",
   "nbconvert_exporter": "python",
   "pygments_lexer": "ipython3",
   "version": "3.10.6"
  },
  "vscode": {
   "interpreter": {
    "hash": "ee412e95a0a5fcd4bc718149b06e63b52799b36d97dd83a114f114becc1d8225"
   }
  }
 },
 "nbformat": 4,
 "nbformat_minor": 2
}
