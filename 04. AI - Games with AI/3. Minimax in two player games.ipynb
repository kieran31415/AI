{
 "cells": [
  {
   "cell_type": "markdown",
   "metadata": {},
   "source": [
    "# Minimax in two player games\n",
    "\n",
    "Let's now see how we can use the Minimax algorithm to find the optimal move for a player (assuming that your opponent also plays optimally) in more complex two-player turn-based games such as Tic Tac Toe, Chess, Go, etc.\n",
    "\n",
    "Watch the video (from 0:00 till 16:10). The first part of the video will once again explain the simple example of the previous video.\n",
    "\n",
    "<a href=\"https://www.youtube.com/embed/5oXyibEgJr0?start=0&end=970\"><img src=\"resources/video2.png\" width=\"400\"></a>"
   ]
  },
  {
   "cell_type": "markdown",
   "metadata": {},
   "source": [
    "## 1. Definitions\n",
    "\n",
    "__Minimax__ is a recursive algorithm which is used to choose an optimal move for a player assuming that the opponent is also playing optimally. As its name suggests, its goal is to minimize the maximum loss (minimize the worst case scenario).\n",
    "\n",
    "A __game tree__ is a directed graph whose nodes are positions in a game and whose edges are moves. The complete game tree for a game is the game tree starting at the initial position and containing all possible moves from each position.\n",
    "\n",
    "The __branching factor__ is the number of children at each node. If this value is not uniform, an average branching factor can be calculated."
   ]
  },
  {
   "cell_type": "markdown",
   "metadata": {},
   "source": [
    "## 2. Questions\n",
    "\n",
    "1. Do you know what the branching factor is for the following games? Is it uniform or not? If not, what is the average branching factor?"
   ]
  },
  {
   "cell_type": "code",
   "execution_count": 1,
   "metadata": {},
   "outputs": [],
   "source": [
    "# The simple path game: uniform or not? branching factor?\n",
    "# Tic Tac Toe: uniform or not? explain?\n",
    "# Chess: uniform or not? explain? average branching factor?"
   ]
  },
  {
   "cell_type": "markdown",
   "metadata": {},
   "source": [
    "2. For chess the game tree is too big (branching factor is too high). What can you do to solve this?"
   ]
  },
  {
   "cell_type": "code",
   "execution_count": 2,
   "metadata": {},
   "outputs": [],
   "source": [
    "# answer ?"
   ]
  },
  {
   "cell_type": "markdown",
   "metadata": {},
   "source": [
    "## 3. Final states\n",
    "\n",
    "In Tic Tac Toe there are 3 final states (X wins, 0 wins, draw). Assume we are playing with X, we definitely would like X to be the winner of the game. So we will give the state in which X wins a positive value of +1. In case O wins, the value will be -1 (we loose). In case of a draw the value will be zero. This results in the following final states:\n",
    "\n",
    "1. X wins the game (value __+1__):\n",
    "<img src=\"./resources/xwins.png\"  style=\"height: 100px\"/>\n",
    "\n",
    "2. O wins the game (value __-1__):\n",
    "<img src=\"./resources/owins.png\"  style=\"height: 100px\"/>\n",
    "\n",
    "3. Draw (value __0__):\n",
    "<img src=\"./resources/draw.png\"  style=\"height: 100px\"/>"
   ]
  },
  {
   "cell_type": "markdown",
   "metadata": {},
   "source": [
    "## 4. Game tree\n",
    "\n",
    "Given a board state at a certain point in time:\n",
    "\n",
    "<img src=\"./resources/initial.png\"  style=\"height: 100px\"/>\n",
    "\n",
    "To determine what is the best move (assuming X has to play first), first draw a game tree with all possible board states. Then label every final state with the values from above (assuming we play with X):\n",
    "\n",
    "<img src=\"./resources/tictactoetree.png\"  style=\"height: 600px\"/>"
   ]
  },
  {
   "cell_type": "markdown",
   "metadata": {},
   "source": [
    "As you can see above, starting from the initial state 0.0, we have 3 possibilities (1.0, 1.1, 1.2).\n",
    "\n",
    "- 1.0 gives us a win (+1), but let’s explore other paths as well\n",
    "- 1.1 gives our opponent 2 possibilities (2.0, 2.1)\n",
    "    * 2.0 is a winning state for our opponent, so it’s a losing state for us (-1)\n",
    "    * 2.1 gives only one possibility 3.0 in which we are winning (+1)\n",
    "- 1.2 gives our opponent 2 possibilities (2.2, 2.3)\n",
    "    * 2.2 is a winning state for our opponent, so it’s a losing state for us (-1)\n",
    "    * 2.3 gives only one possibility 3.1 in which we are winning (+1)"
   ]
  },
  {
   "cell_type": "markdown",
   "metadata": {},
   "source": [
    "## 5. Minimax\n",
    "\n",
    "To determine what the best move for X is, the only thing you have to do is to apply the MiniMax algorithm to the labeled values. __Remember__: X (red player) tries to win, so he will pick the positive values. O (blue player) also tries to win, but he takes the negative ones (we loose):\n",
    "\n",
    "<img src=\"./resources/minimaxtree.png\"  style=\"height: 300px\"/>\n",
    "\n",
    "- At the depth 3 we are maximizing, so we are propagating +1 scores to the previous moves at the depth 2.\n",
    "- At the depth 2 we are minimizing so we are propagating -1 scores to the previous moves at the depth 1.\n",
    "- At the depth 1 we are maximizing so we are propagating +1 to the previous move at the depth 0.\n",
    "- Ultimately at the depth 0, where we actually are, we should pick the move associated with the +1 and we will win the game.\n",
    "\n",
    "__Remark__: In the example, we've used a far advanced initial game state (otherwise the game tree would be too big to draw). As a result the search for the most optimal move for X was a little bit overkill."
   ]
  }
 ],
 "metadata": {
  "kernelspec": {
   "display_name": "Python 3.10.6 ('AI_env': venv)",
   "language": "python",
   "name": "python3"
  },
  "language_info": {
   "codemirror_mode": {
    "name": "ipython",
    "version": 3
   },
   "file_extension": ".py",
   "mimetype": "text/x-python",
   "name": "python",
   "nbconvert_exporter": "python",
   "pygments_lexer": "ipython3",
   "version": "3.10.6"
  },
  "vscode": {
   "interpreter": {
    "hash": "ee412e95a0a5fcd4bc718149b06e63b52799b36d97dd83a114f114becc1d8225"
   }
  }
 },
 "nbformat": 4,
 "nbformat_minor": 2
}
