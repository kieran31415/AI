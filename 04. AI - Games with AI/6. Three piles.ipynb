{
 "cells": [
  {
   "cell_type": "markdown",
   "metadata": {},
   "source": [
    "# Three piles - Exercise\n",
    "\n",
    "Let's change the game a little bit and use three piles instead of one. On every pile there are 9 matches. The rest of the rules remain unchanged: each player takes turns to take a number (1, 2 or 3) of matches from one pile. The goal of the game is to avoid taking the last match from the table."
   ]
  },
  {
   "cell_type": "markdown",
   "metadata": {},
   "source": [
    "## 1. Import packages\n",
    "\n",
    "Import the following packages:"
   ]
  },
  {
   "cell_type": "code",
   "execution_count": 5,
   "metadata": {},
   "outputs": [],
   "source": [
    "from easyAI import TwoPlayerGame, Human_Player, AI_Player, Negamax"
   ]
  },
  {
   "cell_type": "markdown",
   "metadata": {},
   "source": [
    "## 2. Define the game class\n",
    "\n",
    "Define a class that contains all the methods to play the game. Below you will find the code of the one pile game. Change the python code to play the three piles version. Read the TODO-comments, they will help you."
   ]
  },
  {
   "cell_type": "code",
   "execution_count": 6,
   "metadata": {},
   "outputs": [],
   "source": [
    "class ThreePiles(TwoPlayerGame):\n",
    "    \"\"\" In turn, the players remove one, two or three matches from one of the \n",
    "    three piles. The player who removes the last match from the table loses. \"\"\"\n",
    "\n",
    "    def __init__(self, players):\n",
    "        self.players = players\n",
    "        self.nplayer = 1 # player 1 starts\n",
    "        # TODO 1: replace the variable pile with an array piles (with the number of matches on the three piles)\n",
    "        self.pile = [21,21,21]\n",
    "     \n",
    "    # define all the possible moves\n",
    "    def possible_moves(self):\n",
    "        # TODO 2: define the possible moves, a move has the following form 'i,n' \n",
    "        # where i is the pile-number (0, 1 or 2) and n is the number of matches\n",
    "        return ['1,1','1,2','1,3',\n",
    "                '2,1','2,2','2,3',\n",
    "                '3,1','3,2','3,3',]\n",
    "\n",
    "    # a method to remove the matches and keep track of the number of matches remaining on the pile\n",
    "    def make_move(self,move):\n",
    "        # move.split(\",\")\n",
    "        # TODO 3: a move has the following form 'i,n', remove n matches from pile i\n",
    "        self.pile[move[0]] -= int(move[2])\n",
    "        \n",
    "    def win(self):\n",
    "        # TODO 4: all piles (0, 1, 2) must be empty\n",
    "        return self.pile <= 0\n",
    "      \n",
    "    # stop the game after somebody wins it\n",
    "    def is_over(self): \n",
    "        return self.win()\n",
    "    \n",
    "    # compute the score based on the win method\n",
    "    def scoring(self): \n",
    "        return 100 if self.win() else 0 # for the AI\n",
    "    \n",
    "    # a method to show the current status of the piles\n",
    "    def show(self):\n",
    "        # TODO 5: show all three piles\n",
    "        print(\"%d matches left on pile\" % self.pile)"
   ]
  },
  {
   "cell_type": "markdown",
   "metadata": {},
   "source": [
    "## 4. Play the game\n",
    "\n",
    "We will use Negamax and think 6 steps in advance. Now you can play the game and try to beat the AI."
   ]
  },
  {
   "cell_type": "code",
   "execution_count": 7,
   "metadata": {},
   "outputs": [
    {
     "name": "stdout",
     "output_type": "stream",
     "text": [
      "20 matches left on pile\n"
     ]
    },
    {
     "ename": "AttributeError",
     "evalue": "'ThreePiles' object has no attribute 'current_player'",
     "output_type": "error",
     "traceback": [
      "\u001b[1;31m---------------------------------------------------------------------------\u001b[0m",
      "\u001b[1;31mAttributeError\u001b[0m                            Traceback (most recent call last)",
      "\u001b[1;32md:\\school23-24\\AI\\04. AI - Games with AI\\6. Three piles.ipynb Cell 7\u001b[0m line \u001b[0;36m3\n\u001b[0;32m      <a href='vscode-notebook-cell:/d%3A/school23-24/AI/04.%20AI%20-%20Games%20with%20AI/6.%20Three%20piles.ipynb#W6sZmlsZQ%3D%3D?line=0'>1</a>\u001b[0m ai \u001b[39m=\u001b[39m Negamax(\u001b[39m6\u001b[39m)\n\u001b[0;32m      <a href='vscode-notebook-cell:/d%3A/school23-24/AI/04.%20AI%20-%20Games%20with%20AI/6.%20Three%20piles.ipynb#W6sZmlsZQ%3D%3D?line=1'>2</a>\u001b[0m game \u001b[39m=\u001b[39m ThreePiles([Human_Player(), AI_Player(ai)])\n\u001b[1;32m----> <a href='vscode-notebook-cell:/d%3A/school23-24/AI/04.%20AI%20-%20Games%20with%20AI/6.%20Three%20piles.ipynb#W6sZmlsZQ%3D%3D?line=2'>3</a>\u001b[0m history \u001b[39m=\u001b[39m game\u001b[39m.\u001b[39;49mplay()\n",
      "File \u001b[1;32m~\\AppData\\Local\\Packages\\PythonSoftwareFoundation.Python.3.10_qbz5n2kfra8p0\\LocalCache\\local-packages\\Python310\\site-packages\\easyAI\\TwoPlayerGame.py:110\u001b[0m, in \u001b[0;36mTwoPlayerGame.play\u001b[1;34m(self, nmoves, verbose)\u001b[0m\n\u001b[0;32m    107\u001b[0m \u001b[39mif\u001b[39;00m \u001b[39mself\u001b[39m\u001b[39m.\u001b[39mis_over():\n\u001b[0;32m    108\u001b[0m     \u001b[39mbreak\u001b[39;00m\n\u001b[1;32m--> 110\u001b[0m move \u001b[39m=\u001b[39m \u001b[39mself\u001b[39;49m\u001b[39m.\u001b[39;49mplayer\u001b[39m.\u001b[39mask_move(\u001b[39mself\u001b[39m)\n\u001b[0;32m    111\u001b[0m history\u001b[39m.\u001b[39mappend((deepcopy(\u001b[39mself\u001b[39m), move))\n\u001b[0;32m    112\u001b[0m \u001b[39mself\u001b[39m\u001b[39m.\u001b[39mmake_move(move)\n",
      "File \u001b[1;32m~\\AppData\\Local\\Packages\\PythonSoftwareFoundation.Python.3.10_qbz5n2kfra8p0\\LocalCache\\local-packages\\Python310\\site-packages\\easyAI\\TwoPlayerGame.py:133\u001b[0m, in \u001b[0;36mTwoPlayerGame.player\u001b[1;34m(self)\u001b[0m\n\u001b[0;32m    131\u001b[0m \u001b[39m@property\u001b[39m\n\u001b[0;32m    132\u001b[0m \u001b[39mdef\u001b[39;00m \u001b[39mplayer\u001b[39m(\u001b[39mself\u001b[39m):\n\u001b[1;32m--> 133\u001b[0m     \u001b[39mreturn\u001b[39;00m \u001b[39mself\u001b[39m\u001b[39m.\u001b[39mplayers[\u001b[39mself\u001b[39;49m\u001b[39m.\u001b[39;49mcurrent_player \u001b[39m-\u001b[39m \u001b[39m1\u001b[39m]\n",
      "\u001b[1;31mAttributeError\u001b[0m: 'ThreePiles' object has no attribute 'current_player'"
     ]
    }
   ],
   "source": [
    "ai = Negamax(6)\n",
    "game = ThreePiles([Human_Player(), AI_Player(ai)])\n",
    "history = game.play()"
   ]
  }
 ],
 "metadata": {
  "kernelspec": {
   "display_name": "Python 3.10.6 ('AI_env': venv)",
   "language": "python",
   "name": "python3"
  },
  "language_info": {
   "codemirror_mode": {
    "name": "ipython",
    "version": 3
   },
   "file_extension": ".py",
   "mimetype": "text/x-python",
   "name": "python",
   "nbconvert_exporter": "python",
   "pygments_lexer": "ipython3",
   "version": "3.10.11"
  },
  "vscode": {
   "interpreter": {
    "hash": "ee412e95a0a5fcd4bc718149b06e63b52799b36d97dd83a114f114becc1d8225"
   }
  }
 },
 "nbformat": 4,
 "nbformat_minor": 2
}
