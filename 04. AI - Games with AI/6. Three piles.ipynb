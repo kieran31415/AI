{
 "cells": [
  {
   "cell_type": "markdown",
   "metadata": {},
   "source": [
    "# Three piles - Exercise\n",
    "\n",
    "Let's change the game a little bit and use three piles instead of one. On every pile there are 9 matches. The rest of the rules remain unchanged: each player takes turns to take a number (1, 2 or 3) of matches from one pile. The goal of the game is to avoid taking the last match from the table."
   ]
  },
  {
   "cell_type": "markdown",
   "metadata": {},
   "source": [
    "## 1. Import packages\n",
    "\n",
    "Import the following packages:"
   ]
  },
  {
   "cell_type": "code",
   "execution_count": 1,
   "metadata": {},
   "outputs": [],
   "source": [
    "from easyAI import TwoPlayerGame, Human_Player, AI_Player, Negamax"
   ]
  },
  {
   "cell_type": "markdown",
   "metadata": {},
   "source": [
    "## 2. Define the game class\n",
    "\n",
    "Define a class that contains all the methods to play the game. Below you will find the code of the one pile game. Change the python code to play the three piles version. Read the TODO-comments, they will help you."
   ]
  },
  {
   "cell_type": "code",
   "execution_count": null,
   "metadata": {},
   "outputs": [],
   "source": [
    "class ThreePiles(TwoPlayerGame):\n",
    "    \"\"\" In turn, the players remove one, two or three matches from one of the \n",
    "    three piles. The player who removes the last match from the table loses. \"\"\"\n",
    "\n",
    "    def __init__(self, players):\n",
    "        self.players = players\n",
    "        self.nplayer = 1 # player 1 starts\n",
    "        # TODO 1: replace the variable pile with an array piles (with the number of matches on the three piles)\n",
    "        self.pile = 20\n",
    "     \n",
    "    # define all the possible moves\n",
    "    def possible_moves(self):\n",
    "        # TODO 2: define the possible moves, a move has the following form 'i,n' \n",
    "        # where i is the pile-number (0, 1 or 2) and n is the number of matches\n",
    "        return ['1','2','3']\n",
    "\n",
    "    # a method to remove the matches and keep track of the number of matches remaining on the pile\n",
    "    def make_move(self,move):\n",
    "        # TODO 3: a move has the following form 'i,n', remove n matches from pile i\n",
    "        self.pile -= int(move)\n",
    "        \n",
    "    def win(self):\n",
    "        # TODO 4: all piles (0, 1, 2) must be empty\n",
    "        return self.pile <= 0\n",
    "      \n",
    "    # stop the game after somebody wins it\n",
    "    def is_over(self): \n",
    "        return self.win()\n",
    "    \n",
    "    # compute the score based on the win method\n",
    "    def scoring(self): \n",
    "        return 100 if self.win() else 0 # for the AI\n",
    "    \n",
    "    # a method to show the current status of the piles\n",
    "    def show(self):\n",
    "        # TODO 5: show all three piles\n",
    "        print(\"%d matches left on pile\" % self.pile)"
   ]
  },
  {
   "cell_type": "markdown",
   "metadata": {},
   "source": [
    "## 4. Play the game\n",
    "\n",
    "We will use Negamax and think 6 steps in advance. Now you can play the game and try to beat the AI."
   ]
  },
  {
   "cell_type": "code",
   "execution_count": null,
   "metadata": {},
   "outputs": [],
   "source": [
    "ai = Negamax(6)\n",
    "game = ThreePiles([Human_Player(), AI_Player(ai)])\n",
    "history = game.play()"
   ]
  }
 ],
 "metadata": {
  "kernelspec": {
   "display_name": "Python 3.10.6 ('AI_env': venv)",
   "language": "python",
   "name": "python3"
  },
  "language_info": {
   "codemirror_mode": {
    "name": "ipython",
    "version": 3
   },
   "file_extension": ".py",
   "mimetype": "text/x-python",
   "name": "python",
   "nbconvert_exporter": "python",
   "pygments_lexer": "ipython3",
   "version": "3.10.6"
  },
  "vscode": {
   "interpreter": {
    "hash": "ee412e95a0a5fcd4bc718149b06e63b52799b36d97dd83a114f114becc1d8225"
   }
  }
 },
 "nbformat": 4,
 "nbformat_minor": 2
}
