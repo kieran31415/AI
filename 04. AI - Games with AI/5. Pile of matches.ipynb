{
 "cells": [
  {
   "cell_type": "markdown",
   "metadata": {},
   "source": [
    "# Pile of matches\n",
    "\n",
    "This is a game where we have a pile of matches. Each player takes turns to take a number (1, 2 or 3) of matches from the pile. The goal of the game is to avoid taking the last match from the pile.\n",
    "\n",
    "<img src=\"./resources/matches.jpg\"  style=\"height: 200px\"/>"
   ]
  },
  {
   "cell_type": "markdown",
   "metadata": {},
   "source": [
    "## 1. Import packages\n",
    "\n",
    "Import the following packages:"
   ]
  },
  {
   "cell_type": "code",
   "execution_count": 1,
   "metadata": {},
   "outputs": [],
   "source": [
    "from easyAI import TwoPlayerGame, Human_Player, AI_Player, Negamax"
   ]
  },
  {
   "cell_type": "markdown",
   "metadata": {},
   "source": [
    "## 2. Define the game class\n",
    "\n",
    "Define a class that contains all the methods to play the game."
   ]
  },
  {
   "cell_type": "code",
   "execution_count": 2,
   "metadata": {},
   "outputs": [],
   "source": [
    "class PileOfMatches (TwoPlayerGame):\n",
    "    \"\"\" In turn, the players remove one, two or three matches from a\n",
    "    pile. The player who removes the last match loses. \"\"\"\n",
    "\n",
    "    def __init__(self, players):\n",
    "        self.players = players\n",
    "        self.current_player = 1 # player 1 starts\n",
    "        self.pile = 21 # the number of matches on the pile, free to choose any number\n",
    "        \n",
    "    # define all the possible moves\n",
    "    def possible_moves(self):\n",
    "        return ['1','2','3'] # take 1, 2 or 3 matches from the pile\n",
    "\n",
    "    # a method to remove the matches and keep track of the number of matches remaining on the pile\n",
    "    def make_move(self,move):\n",
    "        self.pile -= int(move)\n",
    "      \n",
    "    # check if somebody won the game by checking the number of matches remaining\n",
    "    def win(self): \n",
    "        return self.pile <= 0\n",
    "\n",
    "    # stop the game after somebody wins it\n",
    "    def is_over(self): \n",
    "        return self.win()\n",
    "    \n",
    "    # compute the score based on the win method\n",
    "    def scoring(self): \n",
    "        return 100 if self.win() else 0 # for the AI\n",
    "\n",
    "    # a method to show the current status of the pile\n",
    "    def show(self):\n",
    "        print(\"%d bones left on pile\" % self.pile)"
   ]
  },
  {
   "cell_type": "markdown",
   "metadata": {},
   "source": [
    "## 4. Play the game\n",
    "\n",
    "We will use Negamax and think 6 steps in advance. Now you can play the game and try to beat the AI."
   ]
  },
  {
   "cell_type": "code",
   "execution_count": 3,
   "metadata": {},
   "outputs": [
    {
     "name": "stdout",
     "output_type": "stream",
     "text": [
      "21 bones left on pile\n",
      "\n",
      "Move #1: player 1 plays 3 :\n",
      "18 bones left on pile\n",
      "\n",
      "Move #2: player 2 plays 1 :\n",
      "17 bones left on pile\n",
      "\n",
      "Move #3: player 1 plays 3 :\n",
      "14 bones left on pile\n",
      "\n",
      "Move #4: player 2 plays 1 :\n",
      "13 bones left on pile\n",
      "\n",
      "Move #5: player 1 plays 2 :\n",
      "11 bones left on pile\n",
      "\n",
      "Move #6: player 2 plays 2 :\n",
      "9 bones left on pile\n",
      "\n",
      "Move #7: player 1 plays 3 :\n",
      "6 bones left on pile\n",
      "\n",
      "Move #8: player 2 plays 1 :\n",
      "5 bones left on pile\n",
      "\n",
      "Move #9: player 1 plays 3 :\n",
      "2 bones left on pile\n",
      "\n",
      "Move #10: player 2 plays 1 :\n",
      "1 bones left on pile\n",
      "\n",
      "Move #11: player 1 plays 1 :\n",
      "0 bones left on pile\n"
     ]
    }
   ],
   "source": [
    "ai = Negamax(6)\n",
    "game = PileOfMatches([Human_Player(), AI_Player(ai)])\n",
    "history = game.play()"
   ]
  }
 ],
 "metadata": {
  "kernelspec": {
   "display_name": "Python 3.10.6 ('AI_env': venv)",
   "language": "python",
   "name": "python3"
  },
  "language_info": {
   "codemirror_mode": {
    "name": "ipython",
    "version": 3
   },
   "file_extension": ".py",
   "mimetype": "text/x-python",
   "name": "python",
   "nbconvert_exporter": "python",
   "pygments_lexer": "ipython3",
   "version": "3.10.6"
  },
  "vscode": {
   "interpreter": {
    "hash": "ee412e95a0a5fcd4bc718149b06e63b52799b36d97dd83a114f114becc1d8225"
   }
  }
 },
 "nbformat": 4,
 "nbformat_minor": 2
}
