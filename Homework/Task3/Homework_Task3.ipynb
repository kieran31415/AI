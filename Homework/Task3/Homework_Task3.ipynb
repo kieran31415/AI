{
 "cells": [
  {
   "cell_type": "markdown",
   "metadata": {},
   "source": [
    "# The webscraper to scrape 5 kinds of vehicles (car, bike, bus, plain, boat)."
   ]
  },
  {
   "cell_type": "code",
   "execution_count": 1,
   "metadata": {},
   "outputs": [
    {
     "name": "stdout",
     "output_type": "stream",
     "text": [
      "Requirement already satisfied: requests in d:\\school23_24\\venv\\lib\\site-packages (2.31.0)\n",
      "Requirement already satisfied: charset-normalizer<4,>=2 in d:\\school23_24\\venv\\lib\\site-packages (from requests) (3.3.1)\n",
      "Requirement already satisfied: idna<4,>=2.5 in d:\\school23_24\\venv\\lib\\site-packages (from requests) (3.4)\n",
      "Requirement already satisfied: urllib3<3,>=1.21.1 in d:\\school23_24\\venv\\lib\\site-packages (from requests) (2.0.7)\n",
      "Requirement already satisfied: certifi>=2017.4.17 in d:\\school23_24\\venv\\lib\\site-packages (from requests) (2023.7.22)\n"
     ]
    },
    {
     "name": "stderr",
     "output_type": "stream",
     "text": [
      "\n",
      "[notice] A new release of pip is available: 23.2.1 -> 23.3.1\n",
      "[notice] To update, run: python.exe -m pip install --upgrade pip\n"
     ]
    },
    {
     "name": "stdout",
     "output_type": "stream",
     "text": [
      "Collecting BeautifulSoup4\n",
      "  Using cached beautifulsoup4-4.12.2-py3-none-any.whl (142 kB)\n",
      "Collecting soupsieve>1.2 (from BeautifulSoup4)\n",
      "  Obtaining dependency information for soupsieve>1.2 from https://files.pythonhosted.org/packages/4c/f3/038b302fdfbe3be7da016777069f26ceefe11a681055ea1f7817546508e3/soupsieve-2.5-py3-none-any.whl.metadata\n",
      "  Using cached soupsieve-2.5-py3-none-any.whl.metadata (4.7 kB)\n",
      "Using cached soupsieve-2.5-py3-none-any.whl (36 kB)\n",
      "Installing collected packages: soupsieve, BeautifulSoup4\n",
      "Successfully installed BeautifulSoup4-4.12.2 soupsieve-2.5\n"
     ]
    },
    {
     "name": "stderr",
     "output_type": "stream",
     "text": [
      "\n",
      "[notice] A new release of pip is available: 23.2.1 -> 23.3.1\n",
      "[notice] To update, run: python.exe -m pip install --upgrade pip\n"
     ]
    },
    {
     "name": "stdout",
     "output_type": "stream",
     "text": [
      "Collecting selenium\n",
      "  Obtaining dependency information for selenium from https://files.pythonhosted.org/packages/fc/df/a8972c41279fc9e9404cad87bc1f4d6d3d824b84c5c072dca0e986a89680/selenium-4.14.0-py3-none-any.whl.metadata\n",
      "  Downloading selenium-4.14.0-py3-none-any.whl.metadata (6.9 kB)\n",
      "Requirement already satisfied: urllib3[socks]<3,>=1.26 in d:\\school23_24\\venv\\lib\\site-packages (from selenium) (2.0.7)\n",
      "Collecting trio~=0.17 (from selenium)\n",
      "  Obtaining dependency information for trio~=0.17 from https://files.pythonhosted.org/packages/a3/dd/b61fa61b186d3267ef3903048fbee29132963ae762fb70b08d4a3cd6f7aa/trio-0.22.2-py3-none-any.whl.metadata\n",
      "  Downloading trio-0.22.2-py3-none-any.whl.metadata (4.7 kB)\n",
      "Collecting trio-websocket~=0.9 (from selenium)\n",
      "  Obtaining dependency information for trio-websocket~=0.9 from https://files.pythonhosted.org/packages/48/be/a9ae5f50cad5b6f85bd2574c2c923730098530096e170c1ce7452394d7aa/trio_websocket-0.11.1-py3-none-any.whl.metadata\n",
      "  Downloading trio_websocket-0.11.1-py3-none-any.whl.metadata (4.7 kB)\n",
      "Requirement already satisfied: certifi>=2021.10.8 in d:\\school23_24\\venv\\lib\\site-packages (from selenium) (2023.7.22)\n",
      "Collecting attrs>=20.1.0 (from trio~=0.17->selenium)\n",
      "  Using cached attrs-23.1.0-py3-none-any.whl (61 kB)\n",
      "Collecting sortedcontainers (from trio~=0.17->selenium)\n",
      "  Downloading sortedcontainers-2.4.0-py2.py3-none-any.whl (29 kB)\n",
      "Requirement already satisfied: idna in d:\\school23_24\\venv\\lib\\site-packages (from trio~=0.17->selenium) (3.4)\n",
      "Collecting outcome (from trio~=0.17->selenium)\n",
      "  Obtaining dependency information for outcome from https://files.pythonhosted.org/packages/fa/63/0807d3bc1742adffd2bac458829f3f71ce3aa29bec44a8ac008aed2b467c/outcome-1.3.0-py2.py3-none-any.whl.metadata\n",
      "  Downloading outcome-1.3.0-py2.py3-none-any.whl.metadata (2.4 kB)\n",
      "Collecting sniffio (from trio~=0.17->selenium)\n",
      "  Using cached sniffio-1.3.0-py3-none-any.whl (10 kB)\n",
      "Collecting cffi>=1.14 (from trio~=0.17->selenium)\n",
      "  Obtaining dependency information for cffi>=1.14 from https://files.pythonhosted.org/packages/5a/c7/694814b3757878b29da39bc2f0cf9d20295f4c1e0a0bde7971708d5f23f8/cffi-1.16.0-cp311-cp311-win_amd64.whl.metadata\n",
      "  Downloading cffi-1.16.0-cp311-cp311-win_amd64.whl.metadata (1.5 kB)\n",
      "Collecting wsproto>=0.14 (from trio-websocket~=0.9->selenium)\n",
      "  Downloading wsproto-1.2.0-py3-none-any.whl (24 kB)\n",
      "Collecting pysocks!=1.5.7,<2.0,>=1.5.6 (from urllib3[socks]<3,>=1.26->selenium)\n",
      "  Downloading PySocks-1.7.1-py3-none-any.whl (16 kB)\n",
      "Collecting pycparser (from cffi>=1.14->trio~=0.17->selenium)\n",
      "  Using cached pycparser-2.21-py2.py3-none-any.whl (118 kB)\n",
      "Collecting h11<1,>=0.9.0 (from wsproto>=0.14->trio-websocket~=0.9->selenium)\n",
      "  Downloading h11-0.14.0-py3-none-any.whl (58 kB)\n",
      "     ---------------------------------------- 0.0/58.3 kB ? eta -:--:--\n",
      "     ---------------------------------------- 58.3/58.3 kB 3.0 MB/s eta 0:00:00\n",
      "Downloading selenium-4.14.0-py3-none-any.whl (9.9 MB)\n",
      "   ---------------------------------------- 0.0/9.9 MB ? eta -:--:--\n",
      "   - -------------------------------------- 0.3/9.9 MB 6.8 MB/s eta 0:00:02\n",
      "   --- ------------------------------------ 0.7/9.9 MB 7.8 MB/s eta 0:00:02\n",
      "   ----- ---------------------------------- 1.3/9.9 MB 8.9 MB/s eta 0:00:01\n",
      "   ------- -------------------------------- 1.8/9.9 MB 9.7 MB/s eta 0:00:01\n",
      "   ---------- ----------------------------- 2.6/9.9 MB 10.9 MB/s eta 0:00:01\n",
      "   ------------- -------------------------- 3.4/9.9 MB 11.9 MB/s eta 0:00:01\n",
      "   ---------------- ----------------------- 4.2/9.9 MB 12.7 MB/s eta 0:00:01\n",
      "   ------------------- -------------------- 4.9/9.9 MB 13.7 MB/s eta 0:00:01\n",
      "   ------------------------ --------------- 6.1/9.9 MB 14.9 MB/s eta 0:00:01\n",
      "   ------------------------------ --------- 7.5/9.9 MB 16.5 MB/s eta 0:00:01\n",
      "   ------------------------------------ --- 9.0/9.9 MB 18.0 MB/s eta 0:00:01\n",
      "   ---------------------------------------- 9.9/9.9 MB 18.1 MB/s eta 0:00:00\n",
      "Downloading trio-0.22.2-py3-none-any.whl (400 kB)\n",
      "   ---------------------------------------- 0.0/400.2 kB ? eta -:--:--\n",
      "   --------------------------------------- 400.2/400.2 kB 24.4 MB/s eta 0:00:00\n",
      "Downloading trio_websocket-0.11.1-py3-none-any.whl (17 kB)\n",
      "Downloading cffi-1.16.0-cp311-cp311-win_amd64.whl (181 kB)\n",
      "   ---------------------------------------- 0.0/181.5 kB ? eta -:--:--\n",
      "   --------------------------------------- 181.5/181.5 kB 11.4 MB/s eta 0:00:00\n",
      "Downloading outcome-1.3.0-py2.py3-none-any.whl (10 kB)\n",
      "Installing collected packages: sortedcontainers, sniffio, pysocks, pycparser, h11, attrs, wsproto, outcome, cffi, trio, trio-websocket, selenium\n",
      "Successfully installed attrs-23.1.0 cffi-1.16.0 h11-0.14.0 outcome-1.3.0 pycparser-2.21 pysocks-1.7.1 selenium-4.14.0 sniffio-1.3.0 sortedcontainers-2.4.0 trio-0.22.2 trio-websocket-0.11.1 wsproto-1.2.0\n"
     ]
    },
    {
     "name": "stderr",
     "output_type": "stream",
     "text": [
      "\n",
      "[notice] A new release of pip is available: 23.2.1 -> 23.3.1\n",
      "[notice] To update, run: python.exe -m pip install --upgrade pip\n"
     ]
    }
   ],
   "source": [
    "!pip install requests\n",
    "!pip install BeautifulSoup4\n",
    "!pip install selenium"
   ]
  },
  {
   "cell_type": "code",
   "execution_count": 20,
   "metadata": {},
   "outputs": [
    {
     "name": "stdout",
     "output_type": "stream",
     "text": [
      "None\n",
      "https://encrypted-tbn0.gstatic.com/images?q=tbn:ANd9GcSdUBhuldUxHbkamgJVWYsN1SxX9d79rVxXBA&usqp=CAU\n",
      "https://encrypted-tbn0.gstatic.com/images?q=tbn:ANd9GcQiaxsFJ-FbT76MBGufuZ40L1hOBR_6qhwYsnqurSyqBtJccDNRiQpAwtlP98vyY15QamY&usqp=CAU\n",
      "https://encrypted-tbn0.gstatic.com/images?q=tbn:ANd9GcQe-hIv4l31Hl0568b0ITGRRu4U2GPx45wcQw&usqp=CAU\n",
      "None\n"
     ]
    }
   ],
   "source": [
    "from selenium import webdriver\n",
    "from selenium import webdriver\n",
    "import os\n",
    "import time\n",
    "import requests\n",
    "from selenium import webdriver\n",
    "from selenium.webdriver.common.by import By\n",
    "from selenium.webdriver.support.ui import WebDriverWait\n",
    "from selenium.webdriver.support import expected_conditions as EC\n",
    "import urllib.request\n",
    "\n",
    "import random\n",
    "import numpy as np\n",
    "\n",
    "#image_urls = []\n",
    "# Launch Chrome browser\n",
    "browser = webdriver.Chrome()\n",
    "browser.get('https://images.google.com/')\n",
    "\n",
    "cookies = browser.find_element(By.ID,\"L2AGLb\")\n",
    "cookies.click()\n",
    "\n",
    "time.sleep(5)\n",
    "\n",
    "def searchVehicles(vehicle):\n",
    "# Open Google Images\n",
    "    browser.get('https://images.google.com/')\n",
    "# Search for \"car pictures\"\n",
    "    search_box = browser.find_element(By.NAME,'q')\n",
    "    search_box.send_keys(vehicle+' pictures')\n",
    "    search_box.submit()\n",
    "\n",
    "# Scroll down to load more images\n",
    "    for i in range(5):\n",
    "        browser.execute_script(\"window.scrollTo(0, document.body.scrollHeight);\")\n",
    "        time.sleep(3)\n",
    "\n",
    "# Find and extract image URLs\n",
    "    \n",
    "    for img in browser.find_elements(By.XPATH,'//img[contains(@class,\"rg_i\")]'):\n",
    "        image_urls.append(img.get_attribute('src'))\n",
    "\n",
    "\n",
    "\n",
    "vehicles = ['car', 'motorbike', 'bus', 'plane', 'boat']\n",
    "for vehicle in vehicles:\n",
    "    image_urls = []\n",
    "    searchVehicles(vehicle)\n",
    "    if not os.path.exists('data/testing_set/'+vehicle):\n",
    "            os.makedirs('data/testing_set/'+vehicle)\n",
    "    if not os.path.exists('data/training_set/'+vehicle):\n",
    "            os.makedirs('data/training_set/'+vehicle)\n",
    "\n",
    "    i=0\n",
    "    np.random.shuffle(image_urls)\n",
    "    for url in image_urls:\n",
    "        if i<=int(len(image_urls) * 0.2):\n",
    "            try:\n",
    "                urllib.request.urlretrieve(url, f\"data/testing_set/{vehicle}/{vehicle}{i}.jpg\")\n",
    "            except:\n",
    "                x = 0\n",
    "        else:\n",
    "            try:\n",
    "                urllib.request.urlretrieve(url, f\"data/training_set/{vehicle}/{vehicle}{i}.jpg\")\n",
    "            except:\n",
    "                x = 0\n",
    "        i+=1\n",
    "\n",
    "browser.quit()"
   ]
  },
  {
   "cell_type": "markdown",
   "metadata": {},
   "source": [
    "# EDA"
   ]
  },
  {
   "cell_type": "code",
   "execution_count": 21,
   "metadata": {},
   "outputs": [
    {
     "name": "stdout",
     "output_type": "stream",
     "text": [
      "The total amount of images is: 2\n",
      "Number of images with car in the filename: 0\n",
      "Number of images with motorbike in the filename: 0\n",
      "Number of images with bus in the filename: 0\n",
      "Number of images with plane in the filename: 0\n",
      "Number of images with boat in the filename: 0\n"
     ]
    }
   ],
   "source": [
    "import os\n",
    "\n",
    "# Set the directory path where your images are located\n",
    "directory_path = \"./data\"\n",
    "\n",
    "# Initialize a count variable\n",
    "count = 0\n",
    "\n",
    "# List all files in the directory\n",
    "all_files = os.listdir(directory_path)\n",
    "for file in all_files:\n",
    "    count += 1\n",
    "\n",
    "print(f\"The total amount of images is: {count}\")\n",
    "count = 0\n",
    "vehicles = ['car', 'motorbike', 'bus', 'plane', 'boat']\n",
    "for vehicle in vehicles:\n",
    "    for file in all_files:\n",
    "        if vehicle in file:\n",
    "            count += 1\n",
    "\n",
    "    print(f\"Number of images with {vehicle} in the filename: {count}\")\n",
    "    count = 0"
   ]
  },
  {
   "cell_type": "code",
   "execution_count": null,
   "metadata": {},
   "outputs": [],
   "source": []
  },
  {
   "cell_type": "code",
   "execution_count": 23,
   "metadata": {},
   "outputs": [
    {
     "name": "stdout",
     "output_type": "stream",
     "text": [
      "Found 636 images belonging to 5 classes.\n",
      "Found 156 images belonging to 5 classes.\n",
      "Found 210 images belonging to 5 classes.\n"
     ]
    }
   ],
   "source": [
    "from keras.preprocessing.image import ImageDataGenerator\n",
    "train_val_datagen = ImageDataGenerator(validation_split=0.2,\n",
    "                                   rescale = 1./255,\n",
    "                                   shear_range = 0.2,\n",
    "                                   zoom_range = 0.2,\n",
    "                                   horizontal_flip = True)\n",
    "\n",
    "test_datagen = ImageDataGenerator(rescale = 1./255)\n",
    "\n",
    "training_set = train_val_datagen.flow_from_directory('data/training_set',\n",
    "                                                 subset='training',\n",
    "                                                 target_size = (64, 64),\n",
    "                                                 batch_size = 32,\n",
    "                                                 class_mode = 'binary') \n",
    "\n",
    "validation_set = train_val_datagen.flow_from_directory('data/training_set',\n",
    "                                                 subset='validation',\n",
    "                                                 target_size = (64, 64),\n",
    "                                                 batch_size = 32,\n",
    "                                                 class_mode = 'binary')\n",
    "\n",
    "test_set = test_datagen.flow_from_directory('data/testing_set',\n",
    "                                            target_size = (64, 64),\n",
    "                                            batch_size = 32,\n",
    "                                            class_mode = 'binary')"
   ]
  }
 ],
 "metadata": {
  "kernelspec": {
   "display_name": "DL_env",
   "language": "python",
   "name": "python3"
  },
  "language_info": {
   "codemirror_mode": {
    "name": "ipython",
    "version": 3
   },
   "file_extension": ".py",
   "mimetype": "text/x-python",
   "name": "python",
   "nbconvert_exporter": "python",
   "pygments_lexer": "ipython3",
   "version": "3.11.6"
  }
 },
 "nbformat": 4,
 "nbformat_minor": 2
}
