{
 "cells": [
  {
   "cell_type": "markdown",
   "metadata": {},
   "source": [
    "# The webscraper to scrape 5 kinds of vehicles (car, bike, bus, plain, boat)."
   ]
  },
  {
   "cell_type": "code",
   "execution_count": 6,
   "metadata": {},
   "outputs": [
    {
     "name": "stdout",
     "output_type": "stream",
     "text": [
      "Requirement already satisfied: requests in d:\\school23-24\\dl_env\\lib\\site-packages (2.31.0)\n",
      "Requirement already satisfied: urllib3<3,>=1.21.1 in d:\\school23-24\\dl_env\\lib\\site-packages (from requests) (2.0.7)\n",
      "Requirement already satisfied: certifi>=2017.4.17 in d:\\school23-24\\dl_env\\lib\\site-packages (from requests) (2023.7.22)\n",
      "Requirement already satisfied: charset-normalizer<4,>=2 in d:\\school23-24\\dl_env\\lib\\site-packages (from requests) (3.3.0)\n",
      "Requirement already satisfied: idna<4,>=2.5 in d:\\school23-24\\dl_env\\lib\\site-packages (from requests) (3.4)\n"
     ]
    },
    {
     "name": "stderr",
     "output_type": "stream",
     "text": [
      "\n",
      "[notice] A new release of pip is available: 23.0.1 -> 23.3.1\n",
      "[notice] To update, run: python.exe -m pip install --upgrade pip\n"
     ]
    },
    {
     "name": "stdout",
     "output_type": "stream",
     "text": [
      "Requirement already satisfied: BeautifulSoup4 in d:\\school23-24\\dl_env\\lib\\site-packages (4.12.2)\n",
      "Requirement already satisfied: soupsieve>1.2 in d:\\school23-24\\dl_env\\lib\\site-packages (from BeautifulSoup4) (2.5)\n"
     ]
    },
    {
     "name": "stderr",
     "output_type": "stream",
     "text": [
      "\n",
      "[notice] A new release of pip is available: 23.0.1 -> 23.3.1\n",
      "[notice] To update, run: python.exe -m pip install --upgrade pip\n"
     ]
    },
    {
     "name": "stdout",
     "output_type": "stream",
     "text": [
      "Collecting selenium\n",
      "  Downloading selenium-4.14.0-py3-none-any.whl (9.9 MB)\n",
      "     ---------------------------------------- 0.0/9.9 MB ? eta -:--:--\n",
      "      --------------------------------------- 0.2/9.9 MB 5.0 MB/s eta 0:00:02\n",
      "     -- ------------------------------------- 0.7/9.9 MB 7.0 MB/s eta 0:00:02\n",
      "     ----- ---------------------------------- 1.5/9.9 MB 10.3 MB/s eta 0:00:01\n",
      "     --------- ------------------------------ 2.5/9.9 MB 12.1 MB/s eta 0:00:01\n",
      "     ------------- -------------------------- 3.3/9.9 MB 13.2 MB/s eta 0:00:01\n",
      "     ----------------- ---------------------- 4.4/9.9 MB 13.9 MB/s eta 0:00:01\n",
      "     -------------------- ------------------- 5.2/9.9 MB 14.4 MB/s eta 0:00:01\n",
      "     ------------------------ --------------- 6.0/9.9 MB 14.9 MB/s eta 0:00:01\n",
      "     --------------------------- ------------ 6.7/9.9 MB 15.4 MB/s eta 0:00:01\n",
      "     --------------------------- ------------ 6.9/9.9 MB 13.8 MB/s eta 0:00:01\n",
      "     ------------------------------- -------- 7.7/9.9 MB 14.5 MB/s eta 0:00:01\n",
      "     ---------------------------------- ----- 8.4/9.9 MB 14.6 MB/s eta 0:00:01\n",
      "     ------------------------------------- -- 9.2/9.9 MB 14.7 MB/s eta 0:00:01\n",
      "     ---------------------------------------  9.9/9.9 MB 14.8 MB/s eta 0:00:01\n",
      "     ---------------------------------------  9.9/9.9 MB 14.8 MB/s eta 0:00:01\n",
      "     ---------------------------------------- 9.9/9.9 MB 12.4 MB/s eta 0:00:00\n",
      "Collecting trio~=0.17\n",
      "  Downloading trio-0.22.2-py3-none-any.whl (400 kB)\n",
      "     ---------------------------------------- 0.0/400.2 kB ? eta -:--:--\n",
      "     ------------------------------------- 400.2/400.2 kB 12.6 MB/s eta 0:00:00\n",
      "Requirement already satisfied: urllib3[socks]<3,>=1.26 in d:\\school23-24\\dl_env\\lib\\site-packages (from selenium) (2.0.7)\n",
      "Collecting trio-websocket~=0.9\n",
      "  Downloading trio_websocket-0.11.1-py3-none-any.whl (17 kB)\n",
      "Requirement already satisfied: certifi>=2021.10.8 in d:\\school23-24\\dl_env\\lib\\site-packages (from selenium) (2023.7.22)\n",
      "Collecting sniffio\n",
      "  Using cached sniffio-1.3.0-py3-none-any.whl (10 kB)\n",
      "Requirement already satisfied: idna in d:\\school23-24\\dl_env\\lib\\site-packages (from trio~=0.17->selenium) (3.4)\n",
      "Requirement already satisfied: exceptiongroup>=1.0.0rc9 in d:\\school23-24\\dl_env\\lib\\site-packages (from trio~=0.17->selenium) (1.1.3)\n",
      "Collecting attrs>=20.1.0\n",
      "  Using cached attrs-23.1.0-py3-none-any.whl (61 kB)\n",
      "Collecting sortedcontainers\n",
      "  Downloading sortedcontainers-2.4.0-py2.py3-none-any.whl (29 kB)\n",
      "Collecting outcome\n",
      "  Downloading outcome-1.3.0-py2.py3-none-any.whl (10 kB)\n",
      "Collecting cffi>=1.14\n",
      "  Downloading cffi-1.16.0-cp310-cp310-win_amd64.whl (181 kB)\n",
      "     ---------------------------------------- 0.0/181.6 kB ? eta -:--:--\n",
      "     ------------------------------------- 181.6/181.6 kB 10.7 MB/s eta 0:00:00\n",
      "Collecting wsproto>=0.14\n",
      "  Using cached wsproto-1.2.0-py3-none-any.whl (24 kB)\n",
      "Collecting pysocks!=1.5.7,<2.0,>=1.5.6\n",
      "  Downloading PySocks-1.7.1-py3-none-any.whl (16 kB)\n",
      "Collecting pycparser\n",
      "  Downloading pycparser-2.21-py2.py3-none-any.whl (118 kB)\n",
      "     ---------------------------------------- 0.0/118.7 kB ? eta -:--:--\n",
      "     -------------------------------------- 118.7/118.7 kB 6.8 MB/s eta 0:00:00\n",
      "Collecting h11<1,>=0.9.0\n",
      "  Using cached h11-0.14.0-py3-none-any.whl (58 kB)\n",
      "Installing collected packages: sortedcontainers, sniffio, pysocks, pycparser, h11, attrs, wsproto, outcome, cffi, trio, trio-websocket, selenium\n",
      "Successfully installed attrs-23.1.0 cffi-1.16.0 h11-0.14.0 outcome-1.3.0 pycparser-2.21 pysocks-1.7.1 selenium-4.14.0 sniffio-1.3.0 sortedcontainers-2.4.0 trio-0.22.2 trio-websocket-0.11.1 wsproto-1.2.0\n"
     ]
    },
    {
     "name": "stderr",
     "output_type": "stream",
     "text": [
      "\n",
      "[notice] A new release of pip is available: 23.0.1 -> 23.3.1\n",
      "[notice] To update, run: python.exe -m pip install --upgrade pip\n"
     ]
    }
   ],
   "source": [
    "!pip install requests\n",
    "!pip install BeautifulSoup4\n",
    "!pip install selenium"
   ]
  },
  {
   "cell_type": "code",
   "execution_count": 12,
   "metadata": {},
   "outputs": [
    {
     "ename": "AttributeError",
     "evalue": "'WebDriver' object has no attribute 'find_element_by_link_text'",
     "output_type": "error",
     "traceback": [
      "\u001b[1;31m---------------------------------------------------------------------------\u001b[0m",
      "\u001b[1;31mAttributeError\u001b[0m                            Traceback (most recent call last)",
      "\u001b[1;32md:\\school23-24\\AI\\Homework\\Task3\\Homework_Task3.ipynb Cell 3\u001b[0m line \u001b[0;36m3\n\u001b[0;32m     <a href='vscode-notebook-cell:/d%3A/school23-24/AI/Homework/Task3/Homework_Task3.ipynb#W0sZmlsZQ%3D%3D?line=35'>36</a>\u001b[0m url \u001b[39m=\u001b[39m \u001b[39m\"\u001b[39m\u001b[39mhttps://www.google.com/imghp/\u001b[39m\u001b[39m\"\u001b[39m\u001b[39m+\u001b[39mvehicle\n\u001b[0;32m     <a href='vscode-notebook-cell:/d%3A/school23-24/AI/Homework/Task3/Homework_Task3.ipynb#W0sZmlsZQ%3D%3D?line=36'>37</a>\u001b[0m folder_name \u001b[39m=\u001b[39m \u001b[39m\"\u001b[39m\u001b[39mdata/\u001b[39m\u001b[39m\"\u001b[39m\u001b[39m+\u001b[39mvehicle\n\u001b[1;32m---> <a href='vscode-notebook-cell:/d%3A/school23-24/AI/Homework/Task3/Homework_Task3.ipynb#W0sZmlsZQ%3D%3D?line=37'>38</a>\u001b[0m download_images(url, folder_name)\n",
      "\u001b[1;32md:\\school23-24\\AI\\Homework\\Task3\\Homework_Task3.ipynb Cell 3\u001b[0m line \u001b[0;36m1\n\u001b[0;32m      <a href='vscode-notebook-cell:/d%3A/school23-24/AI/Homework/Task3/Homework_Task3.ipynb#W0sZmlsZQ%3D%3D?line=7'>8</a>\u001b[0m driver\u001b[39m.\u001b[39mget(url)\n\u001b[0;32m      <a href='vscode-notebook-cell:/d%3A/school23-24/AI/Homework/Task3/Homework_Task3.ipynb#W0sZmlsZQ%3D%3D?line=8'>9</a>\u001b[0m time\u001b[39m.\u001b[39msleep(\u001b[39m5\u001b[39m)\n\u001b[1;32m---> <a href='vscode-notebook-cell:/d%3A/school23-24/AI/Homework/Task3/Homework_Task3.ipynb#W0sZmlsZQ%3D%3D?line=9'>10</a>\u001b[0m elem \u001b[39m=\u001b[39m driver\u001b[39m.\u001b[39;49mfind_element_by_link_text(\u001b[39m'\u001b[39m\u001b[39mAccept all\u001b[39m\u001b[39m'\u001b[39m)\n\u001b[0;32m     <a href='vscode-notebook-cell:/d%3A/school23-24/AI/Homework/Task3/Homework_Task3.ipynb#W0sZmlsZQ%3D%3D?line=10'>11</a>\u001b[0m elem\u001b[39m.\u001b[39mclick()\n\u001b[0;32m     <a href='vscode-notebook-cell:/d%3A/school23-24/AI/Homework/Task3/Homework_Task3.ipynb#W0sZmlsZQ%3D%3D?line=11'>12</a>\u001b[0m time\u001b[39m.\u001b[39msleep(\u001b[39m5\u001b[39m)\n",
      "\u001b[1;31mAttributeError\u001b[0m: 'WebDriver' object has no attribute 'find_element_by_link_text'"
     ]
    }
   ],
   "source": [
    "import os\n",
    "import time\n",
    "import requests\n",
    "from selenium import webdriver\n",
    "\n",
    "def download_images(url, folder_name):\n",
    "    driver = webdriver.Chrome()\n",
    "    driver.get(url)\n",
    "    time.sleep(5)\n",
    "    elem = driver.find_element_by_link_text('Accept all')\n",
    "    elem.click()\n",
    "    time.sleep(5)\n",
    "    elem = driver.find_element_by_link_text('Images')\n",
    "    elem.click()\n",
    "    value = 0\n",
    "    for i in range(5):\n",
    "        driver.execute_script(\"scrollBy(\"+ str(value) +\",+1000);\")\n",
    "        value += 1000\n",
    "        time.sleep(3)\n",
    "    images = driver.find_elements_by_xpath('//img[@class=\"rg_i\"]')\n",
    "    if not os.path.exists(folder_name):\n",
    "        os.makedirs(folder_name)\n",
    "    for i in range(len(images)):\n",
    "        images[i].click()\n",
    "        time.sleep(2)\n",
    "        img_url = driver.find_element_by_xpath('//img[@class=\"n3VNCb\"]')\n",
    "        src = img_url.get_attribute('src')\n",
    "        with open(f'{folder_name}/{i}.jpg', 'wb') as f:\n",
    "            f.write(requests.get(src).content)\n",
    "        time.sleep(2)\n",
    "    driver.close()\n",
    "\n",
    "\n",
    "vehicles = ['car', 'plane', 'bike', 'bus', 'boat']\n",
    "for vehicle in vehicles:\n",
    "    url = \"https://www.google.com/imghp\"+vehicle\n",
    "    folder_name = \"data/\"+vehicle\n",
    "    download_images(url, folder_name)"
   ]
  },
  {
   "cell_type": "code",
   "execution_count": 19,
   "metadata": {},
   "outputs": [],
   "source": [
    "from selenium import webdriver\n",
    "from selenium.webdriver.common.by import By\n",
    "from selenium.webdriver.support.ui import WebDriverWait\n",
    "from selenium.webdriver.support import expected_conditions as EC\n",
    "import urllib.request\n",
    "\n",
    "# Set up Selenium web driver\n",
    "driver = webdriver.Chrome()\n",
    "\n",
    "# Navigate to Google Images\n",
    "driver.get(\"https://www.google.com/imghp\")\n",
    "\n",
    "cookies = driver.find_element(By.ID,\"L2AGLb\")\n",
    "cookies.click()\n",
    "time.sleep(5)\n",
    "# Search for images\n",
    "search_box = driver.find_element(By.NAME,\"q\")\n",
    "search_box.send_keys(\"cats\")\n",
    "search_box.submit()\n",
    "\n",
    "# Extract image URLs\n",
    "image_urls = []\n",
    "for i in range(10):\n",
    "    driver.execute_script(\"window.scrollBy(0,10000)\")\n",
    "    try:\n",
    "        image_element = driver.find_element_by_xpath(f\"//img[@class='rg_i'][{i+1}]\")\n",
    "        image_urls.append(image_element.get_attribute(\"src\"))\n",
    "    except:\n",
    "        pass\n",
    "\n",
    "# Download images\n",
    "for i, url in enumerate(image_urls):\n",
    "    urllib.request.urlretrieve(url, f\"data/cat{i}.jpg\")"
   ]
  }
 ],
 "metadata": {
  "kernelspec": {
   "display_name": "DL_env",
   "language": "python",
   "name": "python3"
  },
  "language_info": {
   "codemirror_mode": {
    "name": "ipython",
    "version": 3
   },
   "file_extension": ".py",
   "mimetype": "text/x-python",
   "name": "python",
   "nbconvert_exporter": "python",
   "pygments_lexer": "ipython3",
   "version": "3.10.11"
  }
 },
 "nbformat": 4,
 "nbformat_minor": 2
}
